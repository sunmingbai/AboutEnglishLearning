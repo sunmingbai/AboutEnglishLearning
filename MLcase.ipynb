{
  "nbformat": 4,
  "nbformat_minor": 0,
  "metadata": {
    "colab": {
      "name": "MLcase.ipynb",
      "provenance": [],
      "collapsed_sections": [],
      "mount_file_id": "1MbQ9zmJPoI5sutFAUfs4Ugby6HkPJEym",
      "authorship_tag": "ABX9TyP5xrD6dyTuk7g0d80EXt/F",
      "include_colab_link": true
    },
    "kernelspec": {
      "name": "python3",
      "display_name": "Python 3"
    },
    "language_info": {
      "name": "python"
    },
    "accelerator": "GPU"
  },
  "cells": [
    {
      "cell_type": "markdown",
      "metadata": {
        "id": "view-in-github",
        "colab_type": "text"
      },
      "source": [
        "<a href=\"https://colab.research.google.com/github/sunmingbai/AboutEnglishLearning/blob/main/MLcase.ipynb\" target=\"_parent\"><img src=\"https://colab.research.google.com/assets/colab-badge.svg\" alt=\"Open In Colab\"/></a>"
      ]
    },
    {
      "cell_type": "code",
      "metadata": {
        "id": "fLEO6JqqncTk"
      },
      "source": [
        ""
      ],
      "execution_count": null,
      "outputs": []
    },
    {
      "cell_type": "code",
      "metadata": {
        "id": "9r8keIW9NJWS"
      },
      "source": [
        ""
      ],
      "execution_count": null,
      "outputs": []
    },
    {
      "cell_type": "code",
      "metadata": {
        "id": "qta21N8FqJCt"
      },
      "source": [
        "# pip install imbalanced-learn\n",
        "# !pip install -U imbalanced-learn"
      ],
      "execution_count": null,
      "outputs": []
    },
    {
      "cell_type": "code",
      "metadata": {
        "colab": {
          "base_uri": "https://localhost:8080/",
          "height": 294
        },
        "id": "4KA-SQFDiDM7",
        "outputId": "8f26d073-f4f4-4cfb-e99d-679d978a0800"
      },
      "source": [
        "# !pip install -U xgboost"
      ],
      "execution_count": null,
      "outputs": [
        {
          "output_type": "stream",
          "text": [
            "Collecting xgboost\n",
            "\u001b[?25l  Downloading https://files.pythonhosted.org/packages/bb/35/169eec194bf1f9ef52ed670f5032ef2abaf6ed285cfadcb4b6026b800fc9/xgboost-1.4.2-py3-none-manylinux2010_x86_64.whl (166.7MB)\n",
            "\u001b[K     |████████████████████████████████| 166.7MB 89kB/s \n",
            "\u001b[?25hRequirement already satisfied, skipping upgrade: numpy in /usr/local/lib/python3.7/dist-packages (from xgboost) (1.19.5)\n",
            "Requirement already satisfied, skipping upgrade: scipy in /usr/local/lib/python3.7/dist-packages (from xgboost) (1.4.1)\n",
            "Installing collected packages: xgboost\n",
            "  Found existing installation: xgboost 0.90\n",
            "    Uninstalling xgboost-0.90:\n",
            "      Successfully uninstalled xgboost-0.90\n",
            "Successfully installed xgboost-1.4.2\n"
          ],
          "name": "stdout"
        },
        {
          "output_type": "display_data",
          "data": {
            "application/vnd.colab-display-data+json": {
              "pip_warning": {
                "packages": [
                  "xgboost"
                ]
              }
            }
          },
          "metadata": {
            "tags": []
          }
        }
      ]
    },
    {
      "cell_type": "code",
      "metadata": {
        "id": "vu7iVd_tZ3S-"
      },
      "source": [
        "import numpy  as np\n",
        "import pandas as pd\n",
        "from sklearn.linear_model import LogisticRegression\n",
        "from sklearn.ensemble import RandomForestClassifier\n",
        "from sklearn.model_selection import GridSearchCV\n",
        "import warnings\n",
        "warnings.simplefilter('ignore')\n",
        "\n",
        "from sklearn.metrics import f1_score,precision_score,recall_score,accuracy_score,plot_confusion_matrix,confusion_matrix\n",
        "import matplotlib.pyplot as plt\n",
        "import seaborn as sns\n",
        "# from category_encoders import target_encoder\n",
        "from sklearn.pipeline import make_pipeline,Pipeline\n",
        "from sklearn.ensemble import StackingClassifier\n",
        "from xgboost import XGBClassifier\n",
        "from imblearn.under_sampling import TomekLinks \n",
        "from imblearn.over_sampling import SMOTE\n",
        "from imblearn.combine import SMOTEENN\n",
        "from sklearn.metrics import confusion_matrix\n",
        "from sklearn.model_selection import train_test_split\n",
        "from imblearn.pipeline import Pipeline \n",
        "from sklearn.base import BaseEstimator,TransformerMixin\n",
        "\n",
        "\n",
        "# 修改路径名即可\n",
        "newtrain=pd.read_csv('/content/drive/MyDrive/train_7w.csv').drop(columns=['REGION_RATING_CLIENT_W_CITY'])\n",
        "newtest=pd.read_csv('/content/drive/MyDrive/test_2w.csv')"
      ],
      "execution_count": 1,
      "outputs": []
    },
    {
      "cell_type": "code",
      "metadata": {
        "id": "RfPmQQMXbJo2",
        "colab": {
          "base_uri": "https://localhost:8080/"
        },
        "outputId": "d449c724-fcd6-468f-84b1-0c922017f940"
      },
      "source": [
        "import xgboost\n",
        "print(\"Scikit-Learn\", xgboost.__version__)"
      ],
      "execution_count": 2,
      "outputs": [
        {
          "output_type": "stream",
          "text": [
            "Scikit-Learn 0.90\n"
          ],
          "name": "stdout"
        }
      ]
    },
    {
      "cell_type": "code",
      "metadata": {
        "colab": {
          "base_uri": "https://localhost:8080/"
        },
        "id": "1zXpC8WK5lQR",
        "outputId": "1e1f6ca6-536b-4925-aef7-3a101ea439e6"
      },
      "source": [
        "!pip install category_encoders"
      ],
      "execution_count": 3,
      "outputs": [
        {
          "output_type": "stream",
          "text": [
            "Collecting category_encoders\n",
            "\u001b[?25l  Downloading https://files.pythonhosted.org/packages/44/57/fcef41c248701ee62e8325026b90c432adea35555cbc870aff9cfba23727/category_encoders-2.2.2-py2.py3-none-any.whl (80kB)\n",
            "\r\u001b[K     |████                            | 10kB 19.5MB/s eta 0:00:01\r\u001b[K     |████████▏                       | 20kB 26.4MB/s eta 0:00:01\r\u001b[K     |████████████▏                   | 30kB 31.5MB/s eta 0:00:01\r\u001b[K     |████████████████▎               | 40kB 32.9MB/s eta 0:00:01\r\u001b[K     |████████████████████▎           | 51kB 32.8MB/s eta 0:00:01\r\u001b[K     |████████████████████████▍       | 61kB 34.4MB/s eta 0:00:01\r\u001b[K     |████████████████████████████▍   | 71kB 32.9MB/s eta 0:00:01\r\u001b[K     |████████████████████████████████| 81kB 10.2MB/s \n",
            "\u001b[?25hRequirement already satisfied: pandas>=0.21.1 in /usr/local/lib/python3.7/dist-packages (from category_encoders) (1.1.5)\n",
            "Requirement already satisfied: scipy>=1.0.0 in /usr/local/lib/python3.7/dist-packages (from category_encoders) (1.4.1)\n",
            "Requirement already satisfied: statsmodels>=0.9.0 in /usr/local/lib/python3.7/dist-packages (from category_encoders) (0.10.2)\n",
            "Requirement already satisfied: numpy>=1.14.0 in /usr/local/lib/python3.7/dist-packages (from category_encoders) (1.19.5)\n",
            "Requirement already satisfied: scikit-learn>=0.20.0 in /usr/local/lib/python3.7/dist-packages (from category_encoders) (0.22.2.post1)\n",
            "Requirement already satisfied: patsy>=0.5.1 in /usr/local/lib/python3.7/dist-packages (from category_encoders) (0.5.1)\n",
            "Requirement already satisfied: python-dateutil>=2.7.3 in /usr/local/lib/python3.7/dist-packages (from pandas>=0.21.1->category_encoders) (2.8.1)\n",
            "Requirement already satisfied: pytz>=2017.2 in /usr/local/lib/python3.7/dist-packages (from pandas>=0.21.1->category_encoders) (2018.9)\n",
            "Requirement already satisfied: joblib>=0.11 in /usr/local/lib/python3.7/dist-packages (from scikit-learn>=0.20.0->category_encoders) (1.0.1)\n",
            "Requirement already satisfied: six in /usr/local/lib/python3.7/dist-packages (from patsy>=0.5.1->category_encoders) (1.15.0)\n",
            "Installing collected packages: category-encoders\n",
            "Successfully installed category-encoders-2.2.2\n"
          ],
          "name": "stdout"
        }
      ]
    },
    {
      "cell_type": "code",
      "metadata": {
        "id": "qebiebO-piZ2"
      },
      "source": [
        "from category_encoders import target_encoder"
      ],
      "execution_count": 4,
      "outputs": []
    },
    {
      "cell_type": "code",
      "metadata": {
        "colab": {
          "base_uri": "https://localhost:8080/"
        },
        "id": "nss0FtXx5i2N",
        "outputId": "76af0075-60c9-4f38-ad9d-dd1c40587765"
      },
      "source": [
        "# 检查数据维度 需为61503*165 和24601*164\n",
        "print('维度信息：',newtrain.shape,newtest.shape)"
      ],
      "execution_count": 5,
      "outputs": [
        {
          "output_type": "stream",
          "text": [
            "维度信息： (61503, 164) (24601, 164)\n"
          ],
          "name": "stdout"
        }
      ]
    },
    {
      "cell_type": "code",
      "metadata": {
        "id": "FmS3vUo1OY8R"
      },
      "source": [
        "# 获取dummy后可保留的列名\n",
        "app_train = pd.get_dummies(newtrain)\n",
        "app_test = pd.get_dummies(newtest)"
      ],
      "execution_count": 6,
      "outputs": []
    },
    {
      "cell_type": "code",
      "metadata": {
        "id": "dHuWDB-3OtsQ"
      },
      "source": [
        "# train_target=app_train['TARGET']\n",
        "# app_train = pd.get_dummies(newtrain)\n",
        "# app_test = pd.get_dummies(newtest)\n",
        "app_train,app_test=app_train.align(app_test,join='inner',axis=1)"
      ],
      "execution_count": 7,
      "outputs": []
    },
    {
      "cell_type": "code",
      "metadata": {
        "id": "KIZPV5D75wom"
      },
      "source": [
        "# app_train = pd.get_dummies(newtrain)\n",
        "# app_test = pd.get_dummies(newtest)\n",
        "# app_train,app_test=app_train.align(app_test,join='inner',axis=1)\n",
        "tarcol=[]\n",
        "for col in app_train.columns:\n",
        "    if col not in ['SK_ID_CURR','TARGET']:\n",
        "      tarcol.append(col)\n",
        "\n",
        "\n",
        "# 获取模型预测性能的函数\n",
        "def getmetrics(y_true,y_pre):\n",
        "    print('precison: ',precision_score(y_true,y_pre))\n",
        "    print('recall: ',recall_score(y_true,y_pre))\n",
        "    print('f1: ',f1_score(y_true,y_pre))\n",
        "    print('accuracy: ',accuracy_score(y_true,y_pre))\n",
        "    tn, fp, fn, tp = confusion_matrix(y_true, y_pre).ravel()\n",
        "    cm=np.array([[tp,fp],[fn,tn]])\n",
        "    sns.heatmap(cm,cmap='YlGnBu',annot=True,fmt='.20g')\n",
        "    plt.xticks(ticks =[0.5,1.5] ,labels = np.array(['True_posi','True_nega']))\n",
        "    plt.yticks(ticks =[0.5,1.5] ,labels = np.array(['Pre_posi','Pre_nega']))\n",
        "#     plt.yticks(['预测正例','预测负例'])\n",
        "    plt.show()\n",
        "    \n",
        "\n",
        "# get dummy for lr\n",
        "class getdummy(BaseEstimator,TransformerMixin):\n",
        "    def __init__(self,tarcol):\n",
        "        self.tarcol=tarcol\n",
        "        \n",
        "    def fit(self,X,y=None):\n",
        "        return self\n",
        "    \n",
        "    def transform(self,X,y=None):\n",
        "        X_=pd.get_dummies(X)[self.tarcol]\n",
        "        return X_\n",
        "\n",
        "# 做pipeline 自动cv 输出结果的函数\n",
        "def makepipe_getres(eastimators,set_param,cv_param,newtrain=newtrain,newtest=newtest,verbose=1,n_jobs=5,type_='Pipeline'):\n",
        "    # verbose=1 show final metrics\n",
        "    # =2 show best_params\n",
        "    # =3 show cv_results_\n",
        "    if type_=='Pipeline':\n",
        "      initP=Pipeline(estimators)\n",
        "    elif type_=='Stacking':\n",
        "      initP=StackingClassifier(estimators=estimators, final_estimator=final_estimator)\n",
        "    initP.set_params(**set_param)\n",
        "    p_gs=GridSearchCV(initP,param_grid=cv_param,cv=5,verbose=3,n_jobs=n_jobs,scoring='f1',return_train_score=True)\n",
        "    p_gs.fit(newtrain.drop(columns=['TARGET','SK_ID_CURR']),newtrain['TARGET'])\n",
        "    if verbose>=3:\n",
        "        print('cv_results:\\n',p_gs.cv_results_)\n",
        "        print('best_params:\\n',p_gs.best_params_)\n",
        "        \n",
        "    elif verbose==2:\n",
        "        print('best_params:\\n',p_gs.best_params_)\n",
        "    initP.set_params(**p_gs.best_params_)\n",
        "    P=initP.fit(newtrain.drop(columns=['TARGET','SK_ID_CURR']),newtrain['TARGET'])\n",
        "    pre=P.predict(newtest.drop(columns=['TARGET','SK_ID_CURR']))\n",
        "    getmetrics(newtest['TARGET'],pre)\n",
        "    \n",
        "    return initP,P\n",
        "\n",
        "SEED=42"
      ],
      "execution_count": 7,
      "outputs": []
    },
    {
      "cell_type": "code",
      "metadata": {
        "id": "AtE4sS5rqRKG"
      },
      "source": [
        "from imblearn.ensemble import EasyEnsembleClassifier\n",
        "from imblearn.ensemble import BalancedBaggingClassifier \n",
        "from imblearn.ensemble import BalancedRandomForestClassifier\n",
        "from imblearn.ensemble import RUSBoostClassifier"
      ],
      "execution_count": 8,
      "outputs": []
    },
    {
      "cell_type": "code",
      "metadata": {
        "id": "Ah4JzFLmqP05"
      },
      "source": [
        "# rf_p={'max_depth': 12, 'n_estimators': 5}\n",
        "estimators=[('targetencode',target_encoder.TargetEncoder()),('rus',RUSBoostClassifier(n_estimators = 20,random_state=42,base_estimator = LogisticRegression()))]\n",
        "init_param=dict(targetencode__cols=newtrain.select_dtypes(include='object').columns)\n",
        "\n",
        "pipe1=Pipeline(estimators)\n",
        "pipe1.set_params(**init_param)\n",
        "\n",
        "xgb_p={'max_depth': 5, 'n_estimators': 500}\n",
        "estimators=[('targetencode',target_encoder.TargetEncoder()),('rus',RUSBoostClassifier(n_estimators = 20,random_state=42,base_estimator = XGBClassifier(**xgb_p)))]\n",
        "init_param=dict(targetencode__cols=newtrain.select_dtypes(include='object').columns)\n",
        "\n",
        "pipe2=Pipeline(estimators)\n",
        "pipe2.set_params(**init_param)\n",
        "\n",
        "init_param={\n",
        "}\n",
        "\n",
        "estimators = [\n",
        "        ('rf',pipe1),\n",
        "        ('xgb', pipe2)\n",
        " ]\n",
        "final_estimator=LogisticRegression()\n",
        "initP=StackingClassifier(estimators=estimators, final_estimator=final_estimator)\n",
        "initP.fit(newtrain.drop(columns=['TARGET','SK_ID_CURR']),newtrain['TARGET'])\n",
        "pre_prob=initP.predict_proba(newtest.drop(columns=['TARGET','SK_ID_CURR']))\n",
        "pre=initP.predict(newtest.drop(columns=['TARGET','SK_ID_CURR']))"
      ],
      "execution_count": null,
      "outputs": []
    },
    {
      "cell_type": "code",
      "metadata": {
        "colab": {
          "base_uri": "https://localhost:8080/",
          "height": 334
        },
        "id": "JrwNTqH8uvhJ",
        "outputId": "fef97083-c629-4dda-d9e0-4091bce7641e"
      },
      "source": [
        "getmetrics(newtest['TARGET'],pre)"
      ],
      "execution_count": null,
      "outputs": [
        {
          "output_type": "stream",
          "text": [
            "precison:  0.0\n",
            "recall:  0.0\n",
            "f1:  0.0\n",
            "accuracy:  0.9205316857038331\n"
          ],
          "name": "stdout"
        },
        {
          "output_type": "display_data",
          "data": {
            "image/png": "[encoded data removed]",
            "text/plain": [
              "<Figure size 432x288 with 2 Axes>"
            ]
          },
          "metadata": {
            "tags": [],
            "needs_background": "light"
          }
        }
      ]
    },
    {
      "cell_type": "code",
      "metadata": {
        "colab": {
          "base_uri": "https://localhost:8080/"
        },
        "id": "U9P7nAk2y6Vd",
        "outputId": "97b00cdb-dc89-49c3-b148-9c6fcf678a5b"
      },
      "source": [
        "from sklearn.metrics import roc_auc_score\n",
        "roc_auc_score(newtest['TARGET'].values,pre_prob[:,1])"
      ],
      "execution_count": null,
      "outputs": [
        {
          "output_type": "execute_result",
          "data": {
            "text/plain": [
              "0.6047597030510516"
            ]
          },
          "metadata": {
            "tags": []
          },
          "execution_count": 22
        }
      ]
    },
    {
      "cell_type": "code",
      "metadata": {
        "colab": {
          "base_uri": "https://localhost:8080/",
          "height": 334
        },
        "id": "SzPdK-XTuRwC",
        "outputId": "b7a7cc8a-8d0e-487c-a155-599e973fdede"
      },
      "source": [
        "getmetrics(newtest['TARGET'],pre)"
      ],
      "execution_count": null,
      "outputs": [
        {
          "output_type": "stream",
          "text": [
            "precison:  0.0\n",
            "recall:  0.0\n",
            "f1:  0.0\n",
            "accuracy:  0.9205316857038331\n"
          ],
          "name": "stdout"
        },
        {
          "output_type": "display_data",
          "data": {
            "image/png": "[encoded data removed]",
            "text/plain": [
              "<Figure size 432x288 with 2 Axes>"
            ]
          },
          "metadata": {
            "tags": [],
            "needs_background": "light"
          }
        }
      ]
    },
    {
      "cell_type": "code",
      "metadata": {
        "colab": {
          "base_uri": "https://localhost:8080/",
          "height": 182
        },
        "id": "wGMIklY5ugOT",
        "outputId": "027aae50-d41d-4bba-be55-bf03621646de"
      },
      "source": [
        "from sklearn.metrics import roc_auc_score\n",
        "roc_auc_score(newtest['TARGET'].values,pre_prob[:,1])"
      ],
      "execution_count": null,
      "outputs": [
        {
          "output_type": "error",
          "ename": "NameError",
          "evalue": "ignored",
          "traceback": [
            "\u001b[0;31m---------------------------------------------------------------------------\u001b[0m",
            "\u001b[0;31mNameError\u001b[0m                                 Traceback (most recent call last)",
            "\u001b[0;32m<ipython-input-1-5fba34b2be04>\u001b[0m in \u001b[0;36m<module>\u001b[0;34m()\u001b[0m\n\u001b[1;32m      1\u001b[0m \u001b[0;32mfrom\u001b[0m \u001b[0msklearn\u001b[0m\u001b[0;34m.\u001b[0m\u001b[0mmetrics\u001b[0m \u001b[0;32mimport\u001b[0m \u001b[0mroc_auc_score\u001b[0m\u001b[0;34m\u001b[0m\u001b[0;34m\u001b[0m\u001b[0m\n\u001b[0;32m----> 2\u001b[0;31m \u001b[0mroc_auc_score\u001b[0m\u001b[0;34m(\u001b[0m\u001b[0mnewtest\u001b[0m\u001b[0;34m[\u001b[0m\u001b[0;34m'TARGET'\u001b[0m\u001b[0;34m]\u001b[0m\u001b[0;34m.\u001b[0m\u001b[0mvalues\u001b[0m\u001b[0;34m,\u001b[0m\u001b[0mpre_prob\u001b[0m\u001b[0;34m[\u001b[0m\u001b[0;34m:\u001b[0m\u001b[0;34m,\u001b[0m\u001b[0;36m1\u001b[0m\u001b[0;34m]\u001b[0m\u001b[0;34m)\u001b[0m\u001b[0;34m\u001b[0m\u001b[0;34m\u001b[0m\u001b[0m\n\u001b[0m",
            "\u001b[0;31mNameError\u001b[0m: name 'newtest' is not defined"
          ]
        }
      ]
    },
    {
      "cell_type": "markdown",
      "metadata": {
        "id": "cgtgmKZpcYLV"
      },
      "source": [
        "## develop base model"
      ]
    },
    {
      "cell_type": "markdown",
      "metadata": {
        "id": "1s-SyhoSd31u"
      },
      "source": [
        "### lr已经在个人端跑完"
      ]
    },
    {
      "cell_type": "code",
      "metadata": {
        "colab": {
          "base_uri": "https://localhost:8080/",
          "height": 1000
        },
        "id": "2Dn5-qIPd17X",
        "outputId": "541a7c2d-49cd-4a8e-f079-5fecd0ef78c5"
      },
      "source": [
        "######################################################\n",
        "# rf\n",
        "import time\n",
        "time_start=time.time()\n",
        "\n",
        "estimators=[('targetencode',target_encoder.TargetEncoder()),('randomforest',RandomForestClassifier())]\n",
        "init_param=dict(targetencode__cols=newtrain.select_dtypes(include='object').columns)\n",
        "param_grid={\n",
        "    'randomforest__n_estimators':[5,10,20,30,50],\n",
        "    'randomforest__max_depth':[6,8,10,12]\n",
        "}\n",
        "initP_rf,P_rf=makepipe_getres(\n",
        "    estimators,\n",
        "    init_param,\n",
        "    param_grid,\n",
        "    verbose=3\n",
        ")\n",
        "\n",
        "time_end=time.time()\n",
        "print('totally cost',time_end-time_start)"
      ],
      "execution_count": null,
      "outputs": [
        {
          "output_type": "stream",
          "text": [
            "Fitting 5 folds for each of 20 candidates, totalling 100 fits\n"
          ],
          "name": "stdout"
        },
        {
          "output_type": "stream",
          "text": [
            "[Parallel(n_jobs=5)]: Using backend LokyBackend with 5 concurrent workers.\n",
            "[Parallel(n_jobs=5)]: Done  22 tasks      | elapsed:   41.0s\n",
            "[Parallel(n_jobs=5)]: Done 100 out of 100 | elapsed:  3.6min finished\n"
          ],
          "name": "stderr"
        },
        {
          "output_type": "stream",
          "text": [
            "cv_results:\n",
            " {'mean_fit_time': array([ 3.4808764 ,  4.67648706,  7.14726806,  9.50448627, 14.29150901,\n",
            "        4.01090989,  5.4843854 ,  8.63060489, 11.99307694, 17.93569427,\n",
            "        4.38016167,  6.36919084, 10.09077387, 13.99851737, 21.67509465,\n",
            "        4.65708337,  6.98499722, 11.65773702, 16.30243697, 24.42034445]), 'std_fit_time': array([0.13963068, 0.26988572, 0.08945418, 0.06961108, 0.15710766,\n",
            "       0.07224623, 0.12831128, 0.12884563, 0.3347841 , 0.22717004,\n",
            "       0.10745228, 0.17198196, 0.18012574, 0.1662754 , 0.25080094,\n",
            "       0.09363573, 0.10015499, 0.14889713, 0.19846612, 0.76900682]), 'mean_score_time': array([0.24701152, 0.25958991, 0.30477457, 0.34087157, 0.40269699,\n",
            "       0.24230156, 0.28395338, 0.30554876, 0.33974738, 0.42800097,\n",
            "       0.24192977, 0.26912527, 0.30796509, 0.38281946, 0.46904426,\n",
            "       0.23656554, 0.27225699, 0.33891802, 0.3862977 , 0.2653471 ]), 'std_score_time': array([0.01296396, 0.03358395, 0.03746703, 0.03130592, 0.00576654,\n",
            "       0.03830338, 0.05787371, 0.02571864, 0.02515896, 0.0135943 ,\n",
            "       0.02685891, 0.0239333 , 0.03006878, 0.04215819, 0.03865587,\n",
            "       0.0211034 , 0.00510985, 0.02059318, 0.01467967, 0.11268945]), 'param_randomforest__max_depth': masked_array(data=[6, 6, 6, 6, 6, 8, 8, 8, 8, 8, 10, 10, 10, 10, 10, 12,\n",
            "                   12, 12, 12, 12],\n",
            "             mask=[False, False, False, False, False, False, False, False,\n",
            "                   False, False, False, False, False, False, False, False,\n",
            "                   False, False, False, False],\n",
            "       fill_value='?',\n",
            "            dtype=object), 'param_randomforest__n_estimators': masked_array(data=[5, 10, 20, 30, 50, 5, 10, 20, 30, 50, 5, 10, 20, 30,\n",
            "                   50, 5, 10, 20, 30, 50],\n",
            "             mask=[False, False, False, False, False, False, False, False,\n",
            "                   False, False, False, False, False, False, False, False,\n",
            "                   False, False, False, False],\n",
            "       fill_value='?',\n",
            "            dtype=object), 'params': [{'randomforest__max_depth': 6, 'randomforest__n_estimators': 5}, {'randomforest__max_depth': 6, 'randomforest__n_estimators': 10}, {'randomforest__max_depth': 6, 'randomforest__n_estimators': 20}, {'randomforest__max_depth': 6, 'randomforest__n_estimators': 30}, {'randomforest__max_depth': 6, 'randomforest__n_estimators': 50}, {'randomforest__max_depth': 8, 'randomforest__n_estimators': 5}, {'randomforest__max_depth': 8, 'randomforest__n_estimators': 10}, {'randomforest__max_depth': 8, 'randomforest__n_estimators': 20}, {'randomforest__max_depth': 8, 'randomforest__n_estimators': 30}, {'randomforest__max_depth': 8, 'randomforest__n_estimators': 50}, {'randomforest__max_depth': 10, 'randomforest__n_estimators': 5}, {'randomforest__max_depth': 10, 'randomforest__n_estimators': 10}, {'randomforest__max_depth': 10, 'randomforest__n_estimators': 20}, {'randomforest__max_depth': 10, 'randomforest__n_estimators': 30}, {'randomforest__max_depth': 10, 'randomforest__n_estimators': 50}, {'randomforest__max_depth': 12, 'randomforest__n_estimators': 5}, {'randomforest__max_depth': 12, 'randomforest__n_estimators': 10}, {'randomforest__max_depth': 12, 'randomforest__n_estimators': 20}, {'randomforest__max_depth': 12, 'randomforest__n_estimators': 30}, {'randomforest__max_depth': 12, 'randomforest__n_estimators': 50}], 'split0_test_score': array([0.        , 0.        , 0.        , 0.        , 0.        ,\n",
            "       0.00402414, 0.        , 0.        , 0.        , 0.        ,\n",
            "       0.00800801, 0.00201816, 0.00403226, 0.        , 0.        ,\n",
            "       0.00598205, 0.01398601, 0.0040282 , 0.00403226, 0.        ]), 'split1_test_score': array([0.00201613, 0.        , 0.        , 0.        , 0.        ,\n",
            "       0.        , 0.        , 0.        , 0.        , 0.        ,\n",
            "       0.00599401, 0.0060423 , 0.00201207, 0.00201613, 0.        ,\n",
            "       0.00594059, 0.00601202, 0.00603622, 0.00201613, 0.00201613]), 'split2_test_score': array([0.        , 0.        , 0.        , 0.        , 0.        ,\n",
            "       0.0040282 , 0.        , 0.        , 0.        , 0.        ,\n",
            "       0.00798403, 0.00201005, 0.0060423 , 0.        , 0.        ,\n",
            "       0.0159204 , 0.00796813, 0.00201613, 0.0020141 , 0.        ]), 'split3_test_score': array([0.        , 0.        , 0.        , 0.        , 0.        ,\n",
            "       0.0040201 , 0.00201816, 0.00201816, 0.        , 0.        ,\n",
            "       0.00802407, 0.01005025, 0.        , 0.        , 0.        ,\n",
            "       0.01579467, 0.0080402 , 0.        , 0.00201816, 0.        ]), 'split4_test_score': array([0.0020202 , 0.        , 0.        , 0.        , 0.        ,\n",
            "       0.0060423 , 0.        , 0.        , 0.        , 0.        ,\n",
            "       0.00200602, 0.0060423 , 0.        , 0.        , 0.0020202 ,\n",
            "       0.00399202, 0.00803213, 0.00201816, 0.00201816, 0.0020202 ]), 'mean_test_score': array([0.00080727, 0.        , 0.        , 0.        , 0.        ,\n",
            "       0.00362295, 0.00040363, 0.00040363, 0.        , 0.        ,\n",
            "       0.00640323, 0.00523261, 0.00241733, 0.00040323, 0.00040404,\n",
            "       0.00952595, 0.0088077 , 0.00281974, 0.00241976, 0.00080727]), 'std_test_score': array([0.0009887 , 0.        , 0.        , 0.        , 0.        ,\n",
            "       0.00197291, 0.00080727, 0.00080727, 0.        , 0.        ,\n",
            "       0.00233257, 0.00300794, 0.00234945, 0.00080645, 0.00080808,\n",
            "       0.00521966, 0.00270282, 0.0020516 , 0.00080625, 0.0009887 ]), 'rank_test_score': array([ 9, 15, 15, 15, 15,  5, 12, 12, 15, 15,  3,  4,  8, 14, 11,  1,  2,\n",
            "        6,  7,  9], dtype=int32)}\n",
            "best_params:\n",
            " {'randomforest__max_depth': 12, 'randomforest__n_estimators': 5}\n",
            "precison:  0.36363636363636365\n",
            "recall:  0.008184143222506393\n",
            "f1:  0.016008004002001\n",
            "accuracy:  0.920043900654445\n"
          ],
          "name": "stdout"
        },
        {
          "output_type": "display_data",
          "data": {
            "image/png": "[encoded data removed]",
            "text/plain": [
              "<Figure size 432x288 with 2 Axes>"
            ]
          },
          "metadata": {
            "tags": [],
            "needs_background": "light"
          }
        },
        {
          "output_type": "stream",
          "text": [
            "totally cost 221.64092874526978\n"
          ],
          "name": "stdout"
        }
      ]
    },
    {
      "cell_type": "code",
      "metadata": {
        "colab": {
          "base_uri": "https://localhost:8080/"
        },
        "id": "wugGWO9Wu3Ef",
        "outputId": "05321207-f5c4-4596-be3b-db9ec0c12859"
      },
      "source": [
        "# rf\n",
        "# import time\n",
        "# time_start=time.time()\n",
        "\n",
        "estimators=[('targetencode',target_encoder.TargetEncoder()),('sm',SMOTE(random_state=SEED)),('randomforest',RandomForestClassifier())]\n",
        "init_param=dict(targetencode__cols=newtrain.select_dtypes(include='object').columns,randomforest__max_depth= 12, randomforest__n_estimators= 5)\n",
        "param_grid={\n",
        "    'randomforest__max_depth':[6,7,8,9,10,11,12,13,14,15]\n",
        "}\n",
        "\n",
        "initP=Pipeline(estimators)\n",
        "initP.set_params(**init_param)\n",
        "p_gs=GridSearchCV(initP,param_grid=param_grid,cv=5,verbose=2,n_jobs=4,scoring='f1',return_train_score=True)\n",
        "p_gs.fit(newtrain.drop(columns=['TARGET','SK_ID_CURR']),newtrain['TARGET'])\n",
        "\n",
        "\n",
        "# time_end=time.time()\n",
        "# print('totally cost',time_end-time_start)"
      ],
      "execution_count": null,
      "outputs": [
        {
          "output_type": "stream",
          "text": [
            "Fitting 5 folds for each of 10 candidates, totalling 50 fits\n"
          ],
          "name": "stdout"
        },
        {
          "output_type": "stream",
          "text": [
            "[Parallel(n_jobs=4)]: Using backend LokyBackend with 4 concurrent workers.\n",
            "[Parallel(n_jobs=4)]: Done  33 tasks      | elapsed:  1.6min\n",
            "[Parallel(n_jobs=4)]: Done  50 out of  50 | elapsed:  2.3min finished\n"
          ],
          "name": "stderr"
        },
        {
          "output_type": "execute_result",
          "data": {
            "text/plain": [
              "GridSearchCV(cv=5, error_score=nan,\n",
              "             estimator=Pipeline(memory=None,\n",
              "                                steps=[('targetencode',\n",
              "                                        TargetEncoder(cols=Index(['NAME_CONTRACT_TYPE', 'CODE_GENDER', 'FLAG_OWN_CAR', 'FLAG_OWN_REALTY',\n",
              "       'NAME_TYPE_SUITE', 'NAME_INCOME_TYPE', 'NAME_EDUCATION_TYPE',\n",
              "       'NAME_FAMILY_STATUS', 'NAME_HOUSING_TYPE', 'OCCUPATION_TYPE',\n",
              "       'WEEKDAY_APPR_PROCESS_START', 'ORGANIZATION_TYPE'],...\n",
              "                                                               min_impurity_split=None,\n",
              "                                                               min_samples_leaf=1,\n",
              "                                                               min_samples_split=2,\n",
              "                                                               min_weight_fraction_leaf=0.0,\n",
              "                                                               n_estimators=5,\n",
              "                                                               n_jobs=None,\n",
              "                                                               oob_score=False,\n",
              "                                                               random_state=None,\n",
              "                                                               verbose=0,\n",
              "                                                               warm_start=False))],\n",
              "                                verbose=False),\n",
              "             iid='deprecated', n_jobs=4,\n",
              "             param_grid={'randomforest__max_depth': [6, 7, 8, 9, 10, 11, 12, 13,\n",
              "                                                     14, 15]},\n",
              "             pre_dispatch='2*n_jobs', refit=True, return_train_score=True,\n",
              "             scoring='f1', verbose=2)"
            ]
          },
          "metadata": {
            "tags": []
          },
          "execution_count": 16
        }
      ]
    },
    {
      "cell_type": "code",
      "metadata": {
        "colab": {
          "base_uri": "https://localhost:8080/"
        },
        "id": "j91DEnc4yOtj",
        "outputId": "7dd1631a-52d0-4a9f-de66-71144f62e345"
      },
      "source": [
        "p_gs.cv_results_"
      ],
      "execution_count": null,
      "outputs": [
        {
          "output_type": "execute_result",
          "data": {
            "text/plain": [
              "{'mean_fit_time': array([ 8.69678082,  9.19993339,  9.45498843,  9.87892799, 10.25416927,\n",
              "        10.13207521, 10.46282592, 10.68096638, 10.87431717,  9.14665461]),\n",
              " 'mean_score_time': array([0.18756852, 0.19140754, 0.19053817, 0.18934541, 0.1976274 ,\n",
              "        0.2065052 , 0.18448496, 0.214468  , 0.21995883, 0.14343181]),\n",
              " 'mean_test_score': array([0.18475397, 0.1808959 , 0.14972483, 0.14489795, 0.14902763,\n",
              "        0.12180629, 0.14058166, 0.12410464, 0.11499386, 0.1102606 ]),\n",
              " 'mean_train_score': array([0.20184639, 0.19333469, 0.19261748, 0.21154635, 0.23574491,\n",
              "        0.2607217 , 0.32011083, 0.39491914, 0.44930639, 0.50762153]),\n",
              " 'param_randomforest__max_depth': masked_array(data=[6, 7, 8, 9, 10, 11, 12, 13, 14, 15],\n",
              "              mask=[False, False, False, False, False, False, False, False,\n",
              "                    False, False],\n",
              "        fill_value='?',\n",
              "             dtype=object),\n",
              " 'params': [{'randomforest__max_depth': 6},\n",
              "  {'randomforest__max_depth': 7},\n",
              "  {'randomforest__max_depth': 8},\n",
              "  {'randomforest__max_depth': 9},\n",
              "  {'randomforest__max_depth': 10},\n",
              "  {'randomforest__max_depth': 11},\n",
              "  {'randomforest__max_depth': 12},\n",
              "  {'randomforest__max_depth': 13},\n",
              "  {'randomforest__max_depth': 14},\n",
              "  {'randomforest__max_depth': 15}],\n",
              " 'rank_test_score': array([ 1,  2,  3,  5,  4,  8,  6,  7,  9, 10], dtype=int32),\n",
              " 'split0_test_score': array([0.19016607, 0.16538635, 0.11348383, 0.13633865, 0.13236187,\n",
              "        0.13801602, 0.14037267, 0.13219895, 0.14745308, 0.10803127]),\n",
              " 'split0_train_score': array([0.21283204, 0.20622222, 0.16089804, 0.22159252, 0.23356322,\n",
              "        0.28540707, 0.33819608, 0.39056813, 0.46735285, 0.48260088]),\n",
              " 'split1_test_score': array([0.18387909, 0.21727516, 0.15261044, 0.16444444, 0.16498137,\n",
              "        0.13845186, 0.15765472, 0.13507926, 0.11206897, 0.13378378]),\n",
              " 'split1_train_score': array([0.20176359, 0.20384615, 0.1997662 , 0.21107743, 0.24741715,\n",
              "        0.25558903, 0.32297935, 0.40892948, 0.41321177, 0.50065445]),\n",
              " 'split2_test_score': array([0.17451404, 0.14600232, 0.16119403, 0.14325686, 0.15643045,\n",
              "        0.12016021, 0.15015385, 0.14601019, 0.09643606, 0.10772502]),\n",
              " 'split2_train_score': array([0.20638874, 0.16433319, 0.19169644, 0.21310557, 0.25715035,\n",
              "        0.25949679, 0.31883176, 0.4119436 , 0.4650471 , 0.51370425]),\n",
              " 'split3_test_score': array([0.17692907, 0.18866127, 0.18554007, 0.15982721, 0.14446418,\n",
              "        0.11126374, 0.12757475, 0.11384399, 0.11149826, 0.11038489]),\n",
              " 'split3_train_score': array([0.18573246, 0.19823095, 0.21699978, 0.22359059, 0.2338119 ,\n",
              "        0.25625   , 0.31800956, 0.36680779, 0.45964796, 0.54080791]),\n",
              " 'split4_test_score': array([0.19828156, 0.1871544 , 0.13579576, 0.12062257, 0.14690027,\n",
              "        0.1011396 , 0.12715232, 0.0933908 , 0.10751295, 0.09137804]),\n",
              " 'split4_train_score': array([0.20251511, 0.19404093, 0.19372694, 0.18836565, 0.20678191,\n",
              "        0.24686562, 0.30253741, 0.39634672, 0.4412723 , 0.50034014]),\n",
              " 'std_fit_time': array([0.67483811, 0.53549527, 0.57587411, 0.23711087, 0.4518873 ,\n",
              "        0.46762597, 0.44490471, 0.43607383, 0.38220212, 1.91299396]),\n",
              " 'std_score_time': array([0.01016498, 0.0122352 , 0.01195951, 0.01176127, 0.00429119,\n",
              "        0.01684167, 0.02450994, 0.00499014, 0.0160175 , 0.05072074]),\n",
              " 'std_test_score': array([0.00870789, 0.02400428, 0.02420756, 0.01593862, 0.01106727,\n",
              "        0.01470236, 0.01210526, 0.0185172 , 0.017174  , 0.01357428]),\n",
              " 'std_train_score': array([0.00896025, 0.01511382, 0.01818683, 0.01253782, 0.01698108,\n",
              "        0.01303226, 0.01140334, 0.016108  , 0.0202374 , 0.01931801])}"
            ]
          },
          "metadata": {
            "tags": []
          },
          "execution_count": 20
        }
      ]
    },
    {
      "cell_type": "code",
      "metadata": {
        "id": "o2x_99RZxb_B"
      },
      "source": [
        "test_score=p_gs.cv_results_['mean_test_score']"
      ],
      "execution_count": null,
      "outputs": []
    },
    {
      "cell_type": "code",
      "metadata": {
        "id": "76g3O85JyEjB"
      },
      "source": [
        "train_score=p_gs.cv_results_['mean_train_score']"
      ],
      "execution_count": null,
      "outputs": []
    },
    {
      "cell_type": "code",
      "metadata": {
        "colab": {
          "base_uri": "https://localhost:8080/",
          "height": 313
        },
        "id": "AXokHT4RyZgm",
        "outputId": "cbb3096d-8764-4516-9411-5a9cb9b3e0fc"
      },
      "source": [
        "plt.plot( [6, 7, 8, 9, 10, 11, 12, 13, 14, 15], train_score,label='Train Score')\n",
        "plt.plot( [6, 7, 8, 9, 10, 11, 12, 13, 14, 15], test_score,label='Test Score')\n",
        "plt.legend()\n",
        "plt.xlabel('max_depth')\n",
        "plt.ylabel('metrics_f1')\n",
        "\n",
        "from matplotlib.patches import Rectangle\n",
        "\n",
        "ax = plt.gca()\n",
        "\n",
        "# Create a Rectangle patch\n",
        "rect = Rectangle((11,0),2,0.5,linestyle='--',linewidth=1,edgecolor='r',facecolor='none')\n",
        "\n",
        "# Add the patch to the Axes\n",
        "ax.add_patch(rect)\n",
        "\n",
        "plt.title('Random Forest (with SMOTE) Over-fitting')"
      ],
      "execution_count": null,
      "outputs": [
        {
          "output_type": "execute_result",
          "data": {
            "text/plain": [
              "Text(0.5, 1.0, 'Random Forest (with SMOTE) Over-fitting')"
            ]
          },
          "metadata": {
            "tags": []
          },
          "execution_count": 36
        },
        {
          "output_type": "display_data",
          "data": {
            "image/png": "[encoded data removed]",
            "text/plain": [
              "<Figure size 432x288 with 1 Axes>"
            ]
          },
          "metadata": {
            "tags": [],
            "needs_background": "light"
          }
        }
      ]
    },
    {
      "cell_type": "code",
      "metadata": {
        "colab": {
          "base_uri": "https://localhost:8080/",
          "height": 507
        },
        "id": "gpg7K1caB0yx",
        "outputId": "162f6f03-0cd0-4577-a377-9727a7d474aa"
      },
      "source": [
        "######################################################\n",
        "# rf\n",
        "import time\n",
        "time_start=time.time()\n",
        "\n",
        "estimators=[('targetencode',target_encoder.TargetEncoder()),('sm',SMOTE(random_state=SEED)),('randomforest',RandomForestClassifier())]\n",
        "init_param=dict(targetencode__cols=newtrain.select_dtypes(include='object').columns,randomforest__max_depth= 12, randomforest__n_estimators= 5)\n",
        "param_grid={\n",
        "}\n",
        "initP_rf_smote,P_rf_smote=makepipe_getres(\n",
        "    estimators,\n",
        "    init_param,\n",
        "    param_grid,\n",
        "    verbose=3\n",
        ")\n",
        "\n",
        "time_end=time.time()\n",
        "print('totally cost',time_end-time_start)"
      ],
      "execution_count": null,
      "outputs": [
        {
          "output_type": "stream",
          "text": [
            "Fitting 5 folds for each of 1 candidates, totalling 5 fits\n"
          ],
          "name": "stdout"
        },
        {
          "output_type": "stream",
          "text": [
            "[Parallel(n_jobs=5)]: Using backend LokyBackend with 5 concurrent workers.\n",
            "[Parallel(n_jobs=5)]: Done   2 out of   5 | elapsed:   15.1s remaining:   22.7s\n",
            "[Parallel(n_jobs=5)]: Done   5 out of   5 | elapsed:   15.6s finished\n"
          ],
          "name": "stderr"
        },
        {
          "output_type": "stream",
          "text": [
            "cv_results:\n",
            " {'mean_fit_time': array([12.04263811]), 'std_fit_time': array([0.30163924]), 'mean_score_time': array([0.15278182]), 'std_score_time': array([0.08029172]), 'params': [{}], 'split0_test_score': array([0.12899543]), 'split1_test_score': array([0.1024911]), 'split2_test_score': array([0.10829335]), 'split3_test_score': array([0.102526]), 'split4_test_score': array([0.13207547]), 'mean_test_score': array([0.11487627]), 'std_test_score': array([0.01299553]), 'rank_test_score': array([1], dtype=int32)}\n",
            "best_params:\n",
            " {}\n",
            "precison:  0.16914749661705006\n",
            "recall:  0.0639386189258312\n",
            "f1:  0.09279881217520415\n",
            "accuracy:  0.9006544449412626\n"
          ],
          "name": "stdout"
        },
        {
          "output_type": "display_data",
          "data": {
            "image/png": "[encoded data removed]",
            "text/plain": [
              "<Figure size 432x288 with 2 Axes>"
            ]
          },
          "metadata": {
            "tags": [],
            "needs_background": "light"
          }
        },
        {
          "output_type": "stream",
          "text": [
            "totally cost 24.337160348892212\n"
          ],
          "name": "stdout"
        }
      ]
    },
    {
      "cell_type": "code",
      "metadata": {
        "colab": {
          "base_uri": "https://localhost:8080/",
          "height": 507
        },
        "id": "iSMw-zBEN-YK",
        "outputId": "211aa39d-79ac-4f18-cfac-d13adef594d3"
      },
      "source": [
        "######################################################\n",
        "# rf\n",
        "import time\n",
        "time_start=time.time()\n",
        "\n",
        "estimators=[('targetencode',target_encoder.TargetEncoder()),('tl',TomekLinks()),('randomforest',RandomForestClassifier())]\n",
        "init_param=dict(targetencode__cols=newtrain.select_dtypes(include='object').columns,randomforest__max_depth= 12, randomforest__n_estimators= 5)\n",
        "param_grid={\n",
        "}\n",
        "initP_rf_tl,P_rf_tl=makepipe_getres(\n",
        "    estimators,\n",
        "    init_param,\n",
        "    param_grid,\n",
        "    verbose=3\n",
        ")\n",
        "\n",
        "time_end=time.time()\n",
        "print('totally cost',time_end-time_start)"
      ],
      "execution_count": null,
      "outputs": [
        {
          "output_type": "stream",
          "text": [
            "Fitting 5 folds for each of 1 candidates, totalling 5 fits\n"
          ],
          "name": "stdout"
        },
        {
          "output_type": "stream",
          "text": [
            "[Parallel(n_jobs=5)]: Using backend LokyBackend with 5 concurrent workers.\n",
            "[Parallel(n_jobs=5)]: Done   2 out of   5 | elapsed:  1.6min remaining:  2.4min\n",
            "[Parallel(n_jobs=5)]: Done   5 out of   5 | elapsed:  1.7min finished\n"
          ],
          "name": "stderr"
        },
        {
          "output_type": "stream",
          "text": [
            "cv_results:\n",
            " {'mean_fit_time': array([91.46684003]), 'std_fit_time': array([4.83654816]), 'mean_score_time': array([0.12982244]), 'std_score_time': array([0.05019456]), 'params': [{}], 'split0_test_score': array([0.03100775]), 'split1_test_score': array([0.01576355]), 'split2_test_score': array([0.02167488]), 'split3_test_score': array([0.01373896]), 'split4_test_score': array([0.00994036]), 'mean_test_score': array([0.0184251]), 'std_test_score': array([0.00734736]), 'rank_test_score': array([1], dtype=int32)}\n",
            "best_params:\n",
            " {}\n",
            "precison:  0.4\n",
            "recall:  0.008184143222506393\n",
            "f1:  0.016040100250626566\n",
            "accuracy:  0.9202064956709077\n"
          ],
          "name": "stdout"
        },
        {
          "output_type": "display_data",
          "data": {
            "image/png": "[encoded data removed]",
            "text/plain": [
              "<Figure size 432x288 with 2 Axes>"
            ]
          },
          "metadata": {
            "tags": [],
            "needs_background": "light"
          }
        },
        {
          "output_type": "stream",
          "text": [
            "totally cost 164.0273494720459\n"
          ],
          "name": "stdout"
        }
      ]
    },
    {
      "cell_type": "code",
      "metadata": {
        "colab": {
          "base_uri": "https://localhost:8080/",
          "height": 507
        },
        "id": "QtofkMY9OP8b",
        "outputId": "06a411aa-c69b-46d9-ca91-937a653236eb"
      },
      "source": [
        "######################################################\n",
        "# rf\n",
        "import time\n",
        "time_start=time.time()\n",
        "\n",
        "estimators=[('targetencode',target_encoder.TargetEncoder()),('smenn',SMOTEENN(random_state=SEED)),('randomforest',RandomForestClassifier())]\n",
        "init_param=dict(targetencode__cols=newtrain.select_dtypes(include='object').columns,randomforest__max_depth= 12, randomforest__n_estimators= 5)\n",
        "param_grid={\n",
        "}\n",
        "initP_rf_se,P_rf_se=makepipe_getres(\n",
        "    estimators,\n",
        "    init_param,\n",
        "    param_grid,\n",
        "    verbose=3\n",
        ")\n",
        "\n",
        "time_end=time.time()\n",
        "print('totally cost',time_end-time_start)"
      ],
      "execution_count": null,
      "outputs": [
        {
          "output_type": "stream",
          "text": [
            "Fitting 5 folds for each of 1 candidates, totalling 5 fits\n"
          ],
          "name": "stdout"
        },
        {
          "output_type": "stream",
          "text": [
            "[Parallel(n_jobs=5)]: Using backend LokyBackend with 5 concurrent workers.\n",
            "[Parallel(n_jobs=5)]: Done   2 out of   5 | elapsed:  3.3min remaining:  5.0min\n",
            "[Parallel(n_jobs=5)]: Done   5 out of   5 | elapsed:  3.5min finished\n"
          ],
          "name": "stderr"
        },
        {
          "output_type": "stream",
          "text": [
            "cv_results:\n",
            " {'mean_fit_time': array([197.99627914]), 'std_fit_time': array([7.51578288]), 'mean_score_time': array([0.15472531]), 'std_score_time': array([0.06513952]), 'params': [{}], 'split0_test_score': array([0.20562029]), 'split1_test_score': array([0.21056911]), 'split2_test_score': array([0.18759019]), 'split3_test_score': array([0.2006689]), 'split4_test_score': array([0.17540767]), 'mean_test_score': array([0.19597123]), 'std_test_score': array([0.01281696]), 'rank_test_score': array([1], dtype=int32)}\n",
            "best_params:\n",
            " {}\n",
            "precison:  0.16015846066779854\n",
            "recall:  0.2895140664961637\n",
            "f1:  0.20623064310439063\n",
            "accuracy:  0.8228933783179545\n"
          ],
          "name": "stdout"
        },
        {
          "output_type": "display_data",
          "data": {
            "image/png": "[encoded data removed]",
            "text/plain": [
              "<Figure size 432x288 with 2 Axes>"
            ]
          },
          "metadata": {
            "tags": [],
            "needs_background": "light"
          }
        },
        {
          "output_type": "stream",
          "text": [
            "totally cost 363.6827759742737\n"
          ],
          "name": "stdout"
        }
      ]
    },
    {
      "cell_type": "code",
      "metadata": {
        "colab": {
          "base_uri": "https://localhost:8080/",
          "height": 410
        },
        "id": "-mQ9uHAscTm0",
        "outputId": "a815716f-47f2-43f1-cfaa-dcad108c5633"
      },
      "source": [
        "## xgb\n",
        "\n",
        "import time\n",
        "time_start=time.time()\n",
        "\n",
        "estimators=[('targetencode',target_encoder.TargetEncoder()),('xgb',XGBClassifier())]\n",
        "init_param=dict(targetencode__cols=newtrain.select_dtypes(include='object').columns,xgb__tree_method='gpu_hist',xgb__n_jobs=4)\n",
        "param_grid={\n",
        "    'xgb__n_estimators':[20,100,200,300,500],\n",
        "    'xgb__max_depth':[5,9,11]\n",
        "}\n",
        "initP_xgb,P_xgb=makepipe_getres(\n",
        "    estimators,\n",
        "    init_param,\n",
        "    param_grid,\n",
        "    verbose=2\n",
        ")\n",
        "\n",
        "time_end=time.time()\n",
        "print('totally cost',time_end-time_start)"
      ],
      "execution_count": null,
      "outputs": [
        {
          "output_type": "stream",
          "text": [
            "Fitting 5 folds for each of 15 candidates, totalling 75 fits\n"
          ],
          "name": "stdout"
        },
        {
          "output_type": "stream",
          "text": [
            "[Parallel(n_jobs=5)]: Using backend LokyBackend with 5 concurrent workers.\n"
          ],
          "name": "stderr"
        },
        {
          "output_type": "error",
          "ename": "KeyboardInterrupt",
          "evalue": "ignored",
          "traceback": [
            "\u001b[0;31m---------------------------------------------------------------------------\u001b[0m",
            "\u001b[0;31mKeyboardInterrupt\u001b[0m                         Traceback (most recent call last)",
            "\u001b[0;32m<ipython-input-9-95365eb6162b>\u001b[0m in \u001b[0;36m<module>\u001b[0;34m()\u001b[0m\n\u001b[1;32m     14\u001b[0m     \u001b[0minit_param\u001b[0m\u001b[0;34m,\u001b[0m\u001b[0;34m\u001b[0m\u001b[0;34m\u001b[0m\u001b[0m\n\u001b[1;32m     15\u001b[0m     \u001b[0mparam_grid\u001b[0m\u001b[0;34m,\u001b[0m\u001b[0;34m\u001b[0m\u001b[0;34m\u001b[0m\u001b[0m\n\u001b[0;32m---> 16\u001b[0;31m     \u001b[0mverbose\u001b[0m\u001b[0;34m=\u001b[0m\u001b[0;36m2\u001b[0m\u001b[0;34m\u001b[0m\u001b[0;34m\u001b[0m\u001b[0m\n\u001b[0m\u001b[1;32m     17\u001b[0m )\n\u001b[1;32m     18\u001b[0m \u001b[0;34m\u001b[0m\u001b[0m\n",
            "\u001b[0;32m<ipython-input-8-67cc666d9d0f>\u001b[0m in \u001b[0;36mmakepipe_getres\u001b[0;34m(eastimators, set_param, cv_param, newtrain, newtest, verbose, n_jobs, type_)\u001b[0m\n\u001b[1;32m     46\u001b[0m     \u001b[0minitP\u001b[0m\u001b[0;34m.\u001b[0m\u001b[0mset_params\u001b[0m\u001b[0;34m(\u001b[0m\u001b[0;34m**\u001b[0m\u001b[0mset_param\u001b[0m\u001b[0;34m)\u001b[0m\u001b[0;34m\u001b[0m\u001b[0;34m\u001b[0m\u001b[0m\n\u001b[1;32m     47\u001b[0m     \u001b[0mp_gs\u001b[0m\u001b[0;34m=\u001b[0m\u001b[0mGridSearchCV\u001b[0m\u001b[0;34m(\u001b[0m\u001b[0minitP\u001b[0m\u001b[0;34m,\u001b[0m\u001b[0mparam_grid\u001b[0m\u001b[0;34m=\u001b[0m\u001b[0mcv_param\u001b[0m\u001b[0;34m,\u001b[0m\u001b[0mcv\u001b[0m\u001b[0;34m=\u001b[0m\u001b[0;36m5\u001b[0m\u001b[0;34m,\u001b[0m\u001b[0mverbose\u001b[0m\u001b[0;34m=\u001b[0m\u001b[0;36m3\u001b[0m\u001b[0;34m,\u001b[0m\u001b[0mn_jobs\u001b[0m\u001b[0;34m=\u001b[0m\u001b[0mn_jobs\u001b[0m\u001b[0;34m,\u001b[0m\u001b[0mscoring\u001b[0m\u001b[0;34m=\u001b[0m\u001b[0;34m'f1'\u001b[0m\u001b[0;34m)\u001b[0m\u001b[0;34m\u001b[0m\u001b[0;34m\u001b[0m\u001b[0m\n\u001b[0;32m---> 48\u001b[0;31m     \u001b[0mp_gs\u001b[0m\u001b[0;34m.\u001b[0m\u001b[0mfit\u001b[0m\u001b[0;34m(\u001b[0m\u001b[0mnewtrain\u001b[0m\u001b[0;34m.\u001b[0m\u001b[0mdrop\u001b[0m\u001b[0;34m(\u001b[0m\u001b[0mcolumns\u001b[0m\u001b[0;34m=\u001b[0m\u001b[0;34m[\u001b[0m\u001b[0;34m'TARGET'\u001b[0m\u001b[0;34m,\u001b[0m\u001b[0;34m'SK_ID_CURR'\u001b[0m\u001b[0;34m]\u001b[0m\u001b[0;34m)\u001b[0m\u001b[0;34m,\u001b[0m\u001b[0mnewtrain\u001b[0m\u001b[0;34m[\u001b[0m\u001b[0;34m'TARGET'\u001b[0m\u001b[0;34m]\u001b[0m\u001b[0;34m)\u001b[0m\u001b[0;34m\u001b[0m\u001b[0;34m\u001b[0m\u001b[0m\n\u001b[0m\u001b[1;32m     49\u001b[0m     \u001b[0;32mif\u001b[0m \u001b[0mverbose\u001b[0m\u001b[0;34m>=\u001b[0m\u001b[0;36m3\u001b[0m\u001b[0;34m:\u001b[0m\u001b[0;34m\u001b[0m\u001b[0;34m\u001b[0m\u001b[0m\n\u001b[1;32m     50\u001b[0m         \u001b[0mprint\u001b[0m\u001b[0;34m(\u001b[0m\u001b[0;34m'cv_results:\\n'\u001b[0m\u001b[0;34m,\u001b[0m\u001b[0mp_gs\u001b[0m\u001b[0;34m.\u001b[0m\u001b[0mcv_results_\u001b[0m\u001b[0;34m)\u001b[0m\u001b[0;34m\u001b[0m\u001b[0;34m\u001b[0m\u001b[0m\n",
            "\u001b[0;32m/usr/local/lib/python3.7/dist-packages/sklearn/model_selection/_search.py\u001b[0m in \u001b[0;36mfit\u001b[0;34m(self, X, y, groups, **fit_params)\u001b[0m\n\u001b[1;32m    708\u001b[0m                 \u001b[0;32mreturn\u001b[0m \u001b[0mresults\u001b[0m\u001b[0;34m\u001b[0m\u001b[0;34m\u001b[0m\u001b[0m\n\u001b[1;32m    709\u001b[0m \u001b[0;34m\u001b[0m\u001b[0m\n\u001b[0;32m--> 710\u001b[0;31m             \u001b[0mself\u001b[0m\u001b[0;34m.\u001b[0m\u001b[0m_run_search\u001b[0m\u001b[0;34m(\u001b[0m\u001b[0mevaluate_candidates\u001b[0m\u001b[0;34m)\u001b[0m\u001b[0;34m\u001b[0m\u001b[0;34m\u001b[0m\u001b[0m\n\u001b[0m\u001b[1;32m    711\u001b[0m \u001b[0;34m\u001b[0m\u001b[0m\n\u001b[1;32m    712\u001b[0m         \u001b[0;31m# For multi-metric evaluation, store the best_index_, best_params_ and\u001b[0m\u001b[0;34m\u001b[0m\u001b[0;34m\u001b[0m\u001b[0;34m\u001b[0m\u001b[0m\n",
            "\u001b[0;32m/usr/local/lib/python3.7/dist-packages/sklearn/model_selection/_search.py\u001b[0m in \u001b[0;36m_run_search\u001b[0;34m(self, evaluate_candidates)\u001b[0m\n\u001b[1;32m   1149\u001b[0m     \u001b[0;32mdef\u001b[0m \u001b[0m_run_search\u001b[0m\u001b[0;34m(\u001b[0m\u001b[0mself\u001b[0m\u001b[0;34m,\u001b[0m \u001b[0mevaluate_candidates\u001b[0m\u001b[0;34m)\u001b[0m\u001b[0;34m:\u001b[0m\u001b[0;34m\u001b[0m\u001b[0;34m\u001b[0m\u001b[0m\n\u001b[1;32m   1150\u001b[0m         \u001b[0;34m\"\"\"Search all candidates in param_grid\"\"\"\u001b[0m\u001b[0;34m\u001b[0m\u001b[0;34m\u001b[0m\u001b[0m\n\u001b[0;32m-> 1151\u001b[0;31m         \u001b[0mevaluate_candidates\u001b[0m\u001b[0;34m(\u001b[0m\u001b[0mParameterGrid\u001b[0m\u001b[0;34m(\u001b[0m\u001b[0mself\u001b[0m\u001b[0;34m.\u001b[0m\u001b[0mparam_grid\u001b[0m\u001b[0;34m)\u001b[0m\u001b[0;34m)\u001b[0m\u001b[0;34m\u001b[0m\u001b[0;34m\u001b[0m\u001b[0m\n\u001b[0m\u001b[1;32m   1152\u001b[0m \u001b[0;34m\u001b[0m\u001b[0m\n\u001b[1;32m   1153\u001b[0m \u001b[0;34m\u001b[0m\u001b[0m\n",
            "\u001b[0;32m/usr/local/lib/python3.7/dist-packages/sklearn/model_selection/_search.py\u001b[0m in \u001b[0;36mevaluate_candidates\u001b[0;34m(candidate_params)\u001b[0m\n\u001b[1;32m    687\u001b[0m                                \u001b[0;32mfor\u001b[0m \u001b[0mparameters\u001b[0m\u001b[0;34m,\u001b[0m \u001b[0;34m(\u001b[0m\u001b[0mtrain\u001b[0m\u001b[0;34m,\u001b[0m \u001b[0mtest\u001b[0m\u001b[0;34m)\u001b[0m\u001b[0;34m\u001b[0m\u001b[0;34m\u001b[0m\u001b[0m\n\u001b[1;32m    688\u001b[0m                                in product(candidate_params,\n\u001b[0;32m--> 689\u001b[0;31m                                           cv.split(X, y, groups)))\n\u001b[0m\u001b[1;32m    690\u001b[0m \u001b[0;34m\u001b[0m\u001b[0m\n\u001b[1;32m    691\u001b[0m                 \u001b[0;32mif\u001b[0m \u001b[0mlen\u001b[0m\u001b[0;34m(\u001b[0m\u001b[0mout\u001b[0m\u001b[0;34m)\u001b[0m \u001b[0;34m<\u001b[0m \u001b[0;36m1\u001b[0m\u001b[0;34m:\u001b[0m\u001b[0;34m\u001b[0m\u001b[0;34m\u001b[0m\u001b[0m\n",
            "\u001b[0;32m/usr/local/lib/python3.7/dist-packages/joblib/parallel.py\u001b[0m in \u001b[0;36m__call__\u001b[0;34m(self, iterable)\u001b[0m\n\u001b[1;32m   1052\u001b[0m \u001b[0;34m\u001b[0m\u001b[0m\n\u001b[1;32m   1053\u001b[0m             \u001b[0;32mwith\u001b[0m \u001b[0mself\u001b[0m\u001b[0;34m.\u001b[0m\u001b[0m_backend\u001b[0m\u001b[0;34m.\u001b[0m\u001b[0mretrieval_context\u001b[0m\u001b[0;34m(\u001b[0m\u001b[0;34m)\u001b[0m\u001b[0;34m:\u001b[0m\u001b[0;34m\u001b[0m\u001b[0;34m\u001b[0m\u001b[0m\n\u001b[0;32m-> 1054\u001b[0;31m                 \u001b[0mself\u001b[0m\u001b[0;34m.\u001b[0m\u001b[0mretrieve\u001b[0m\u001b[0;34m(\u001b[0m\u001b[0;34m)\u001b[0m\u001b[0;34m\u001b[0m\u001b[0;34m\u001b[0m\u001b[0m\n\u001b[0m\u001b[1;32m   1055\u001b[0m             \u001b[0;31m# Make sure that we get a last message telling us we are done\u001b[0m\u001b[0;34m\u001b[0m\u001b[0;34m\u001b[0m\u001b[0;34m\u001b[0m\u001b[0m\n\u001b[1;32m   1056\u001b[0m             \u001b[0melapsed_time\u001b[0m \u001b[0;34m=\u001b[0m \u001b[0mtime\u001b[0m\u001b[0;34m.\u001b[0m\u001b[0mtime\u001b[0m\u001b[0;34m(\u001b[0m\u001b[0;34m)\u001b[0m \u001b[0;34m-\u001b[0m \u001b[0mself\u001b[0m\u001b[0;34m.\u001b[0m\u001b[0m_start_time\u001b[0m\u001b[0;34m\u001b[0m\u001b[0;34m\u001b[0m\u001b[0m\n",
            "\u001b[0;32m/usr/local/lib/python3.7/dist-packages/joblib/parallel.py\u001b[0m in \u001b[0;36mretrieve\u001b[0;34m(self)\u001b[0m\n\u001b[1;32m    931\u001b[0m             \u001b[0;32mtry\u001b[0m\u001b[0;34m:\u001b[0m\u001b[0;34m\u001b[0m\u001b[0;34m\u001b[0m\u001b[0m\n\u001b[1;32m    932\u001b[0m                 \u001b[0;32mif\u001b[0m \u001b[0mgetattr\u001b[0m\u001b[0;34m(\u001b[0m\u001b[0mself\u001b[0m\u001b[0;34m.\u001b[0m\u001b[0m_backend\u001b[0m\u001b[0;34m,\u001b[0m \u001b[0;34m'supports_timeout'\u001b[0m\u001b[0;34m,\u001b[0m \u001b[0;32mFalse\u001b[0m\u001b[0;34m)\u001b[0m\u001b[0;34m:\u001b[0m\u001b[0;34m\u001b[0m\u001b[0;34m\u001b[0m\u001b[0m\n\u001b[0;32m--> 933\u001b[0;31m                     \u001b[0mself\u001b[0m\u001b[0;34m.\u001b[0m\u001b[0m_output\u001b[0m\u001b[0;34m.\u001b[0m\u001b[0mextend\u001b[0m\u001b[0;34m(\u001b[0m\u001b[0mjob\u001b[0m\u001b[0;34m.\u001b[0m\u001b[0mget\u001b[0m\u001b[0;34m(\u001b[0m\u001b[0mtimeout\u001b[0m\u001b[0;34m=\u001b[0m\u001b[0mself\u001b[0m\u001b[0;34m.\u001b[0m\u001b[0mtimeout\u001b[0m\u001b[0;34m)\u001b[0m\u001b[0;34m)\u001b[0m\u001b[0;34m\u001b[0m\u001b[0;34m\u001b[0m\u001b[0m\n\u001b[0m\u001b[1;32m    934\u001b[0m                 \u001b[0;32melse\u001b[0m\u001b[0;34m:\u001b[0m\u001b[0;34m\u001b[0m\u001b[0;34m\u001b[0m\u001b[0m\n\u001b[1;32m    935\u001b[0m                     \u001b[0mself\u001b[0m\u001b[0;34m.\u001b[0m\u001b[0m_output\u001b[0m\u001b[0;34m.\u001b[0m\u001b[0mextend\u001b[0m\u001b[0;34m(\u001b[0m\u001b[0mjob\u001b[0m\u001b[0;34m.\u001b[0m\u001b[0mget\u001b[0m\u001b[0;34m(\u001b[0m\u001b[0;34m)\u001b[0m\u001b[0;34m)\u001b[0m\u001b[0;34m\u001b[0m\u001b[0;34m\u001b[0m\u001b[0m\n",
            "\u001b[0;32m/usr/local/lib/python3.7/dist-packages/joblib/_parallel_backends.py\u001b[0m in \u001b[0;36mwrap_future_result\u001b[0;34m(future, timeout)\u001b[0m\n\u001b[1;32m    540\u001b[0m         AsyncResults.get from multiprocessing.\"\"\"\n\u001b[1;32m    541\u001b[0m         \u001b[0;32mtry\u001b[0m\u001b[0;34m:\u001b[0m\u001b[0;34m\u001b[0m\u001b[0;34m\u001b[0m\u001b[0m\n\u001b[0;32m--> 542\u001b[0;31m             \u001b[0;32mreturn\u001b[0m \u001b[0mfuture\u001b[0m\u001b[0;34m.\u001b[0m\u001b[0mresult\u001b[0m\u001b[0;34m(\u001b[0m\u001b[0mtimeout\u001b[0m\u001b[0;34m=\u001b[0m\u001b[0mtimeout\u001b[0m\u001b[0;34m)\u001b[0m\u001b[0;34m\u001b[0m\u001b[0;34m\u001b[0m\u001b[0m\n\u001b[0m\u001b[1;32m    543\u001b[0m         \u001b[0;32mexcept\u001b[0m \u001b[0mCfTimeoutError\u001b[0m \u001b[0;32mas\u001b[0m \u001b[0me\u001b[0m\u001b[0;34m:\u001b[0m\u001b[0;34m\u001b[0m\u001b[0;34m\u001b[0m\u001b[0m\n\u001b[1;32m    544\u001b[0m             \u001b[0;32mraise\u001b[0m \u001b[0mTimeoutError\u001b[0m \u001b[0;32mfrom\u001b[0m \u001b[0me\u001b[0m\u001b[0;34m\u001b[0m\u001b[0;34m\u001b[0m\u001b[0m\n",
            "\u001b[0;32m/usr/lib/python3.7/concurrent/futures/_base.py\u001b[0m in \u001b[0;36mresult\u001b[0;34m(self, timeout)\u001b[0m\n\u001b[1;32m    428\u001b[0m                 \u001b[0;32mreturn\u001b[0m \u001b[0mself\u001b[0m\u001b[0;34m.\u001b[0m\u001b[0m__get_result\u001b[0m\u001b[0;34m(\u001b[0m\u001b[0;34m)\u001b[0m\u001b[0;34m\u001b[0m\u001b[0;34m\u001b[0m\u001b[0m\n\u001b[1;32m    429\u001b[0m \u001b[0;34m\u001b[0m\u001b[0m\n\u001b[0;32m--> 430\u001b[0;31m             \u001b[0mself\u001b[0m\u001b[0;34m.\u001b[0m\u001b[0m_condition\u001b[0m\u001b[0;34m.\u001b[0m\u001b[0mwait\u001b[0m\u001b[0;34m(\u001b[0m\u001b[0mtimeout\u001b[0m\u001b[0;34m)\u001b[0m\u001b[0;34m\u001b[0m\u001b[0;34m\u001b[0m\u001b[0m\n\u001b[0m\u001b[1;32m    431\u001b[0m \u001b[0;34m\u001b[0m\u001b[0m\n\u001b[1;32m    432\u001b[0m             \u001b[0;32mif\u001b[0m \u001b[0mself\u001b[0m\u001b[0;34m.\u001b[0m\u001b[0m_state\u001b[0m \u001b[0;32min\u001b[0m \u001b[0;34m[\u001b[0m\u001b[0mCANCELLED\u001b[0m\u001b[0;34m,\u001b[0m \u001b[0mCANCELLED_AND_NOTIFIED\u001b[0m\u001b[0;34m]\u001b[0m\u001b[0;34m:\u001b[0m\u001b[0;34m\u001b[0m\u001b[0;34m\u001b[0m\u001b[0m\n",
            "\u001b[0;32m/usr/lib/python3.7/threading.py\u001b[0m in \u001b[0;36mwait\u001b[0;34m(self, timeout)\u001b[0m\n\u001b[1;32m    294\u001b[0m         \u001b[0;32mtry\u001b[0m\u001b[0;34m:\u001b[0m    \u001b[0;31m# restore state no matter what (e.g., KeyboardInterrupt)\u001b[0m\u001b[0;34m\u001b[0m\u001b[0;34m\u001b[0m\u001b[0m\n\u001b[1;32m    295\u001b[0m             \u001b[0;32mif\u001b[0m \u001b[0mtimeout\u001b[0m \u001b[0;32mis\u001b[0m \u001b[0;32mNone\u001b[0m\u001b[0;34m:\u001b[0m\u001b[0;34m\u001b[0m\u001b[0;34m\u001b[0m\u001b[0m\n\u001b[0;32m--> 296\u001b[0;31m                 \u001b[0mwaiter\u001b[0m\u001b[0;34m.\u001b[0m\u001b[0macquire\u001b[0m\u001b[0;34m(\u001b[0m\u001b[0;34m)\u001b[0m\u001b[0;34m\u001b[0m\u001b[0;34m\u001b[0m\u001b[0m\n\u001b[0m\u001b[1;32m    297\u001b[0m                 \u001b[0mgotit\u001b[0m \u001b[0;34m=\u001b[0m \u001b[0;32mTrue\u001b[0m\u001b[0;34m\u001b[0m\u001b[0;34m\u001b[0m\u001b[0m\n\u001b[1;32m    298\u001b[0m             \u001b[0;32melse\u001b[0m\u001b[0;34m:\u001b[0m\u001b[0;34m\u001b[0m\u001b[0;34m\u001b[0m\u001b[0m\n",
            "\u001b[0;31mKeyboardInterrupt\u001b[0m: "
          ]
        }
      ]
    },
    {
      "cell_type": "code",
      "metadata": {
        "colab": {
          "base_uri": "https://localhost:8080/",
          "height": 444
        },
        "id": "GOLYGK5cNNIH",
        "outputId": "7845aee2-4461-4eda-8f91-1af23ab10141"
      },
      "source": [
        "\n",
        "## xgb\n",
        "\n",
        "import time\n",
        "time_start=time.time()\n",
        "\n",
        "estimators=[('targetencode',target_encoder.TargetEncoder()),('tl',SMOTEENN()),('xgb',XGBClassifier())]\n",
        "init_param=dict(targetencode__cols=newtrain.select_dtypes(include='object').columns,xgb__tree_method='gpu_hist',xgb__n_jobs=4)\n",
        "param_grid={\n",
        "    'xgb__n_estimators':[500],\n",
        "    'xgb__max_depth':[5]\n",
        "}\n",
        "initP_xgb_tl,P_xgb_tl=makepipe_getres(\n",
        "    estimators,\n",
        "    init_param,\n",
        "    param_grid,\n",
        "    verbose=2\n",
        ")\n",
        "\n",
        "time_end=time.time()\n",
        "print('totally cost',time_end-time_start)"
      ],
      "execution_count": null,
      "outputs": [
        {
          "output_type": "stream",
          "text": [
            "Fitting 5 folds for each of 1 candidates, totalling 5 fits\n"
          ],
          "name": "stdout"
        },
        {
          "output_type": "stream",
          "text": [
            "[Parallel(n_jobs=5)]: Using backend LokyBackend with 5 concurrent workers.\n",
            "[Parallel(n_jobs=5)]: Done   2 out of   5 | elapsed:   10.5s remaining:   15.8s\n",
            "[Parallel(n_jobs=5)]: Done   5 out of   5 | elapsed:   14.9s finished\n"
          ],
          "name": "stderr"
        },
        {
          "output_type": "error",
          "ename": "KeyError",
          "evalue": "ignored",
          "traceback": [
            "\u001b[0;31m---------------------------------------------------------------------------\u001b[0m",
            "\u001b[0;31mKeyError\u001b[0m                                  Traceback (most recent call last)",
            "\u001b[0;32m<ipython-input-9-1d1f208c0b6a>\u001b[0m in \u001b[0;36m<module>\u001b[0;34m()\u001b[0m\n\u001b[1;32m     15\u001b[0m     \u001b[0minit_param\u001b[0m\u001b[0;34m,\u001b[0m\u001b[0;34m\u001b[0m\u001b[0;34m\u001b[0m\u001b[0m\n\u001b[1;32m     16\u001b[0m     \u001b[0mparam_grid\u001b[0m\u001b[0;34m,\u001b[0m\u001b[0;34m\u001b[0m\u001b[0;34m\u001b[0m\u001b[0m\n\u001b[0;32m---> 17\u001b[0;31m     \u001b[0mverbose\u001b[0m\u001b[0;34m=\u001b[0m\u001b[0;36m2\u001b[0m\u001b[0;34m\u001b[0m\u001b[0;34m\u001b[0m\u001b[0m\n\u001b[0m\u001b[1;32m     18\u001b[0m )\n\u001b[1;32m     19\u001b[0m \u001b[0;34m\u001b[0m\u001b[0m\n",
            "\u001b[0;32m<ipython-input-8-aeed37bc6ec3>\u001b[0m in \u001b[0;36mmakepipe_getres\u001b[0;34m(eastimators, set_param, cv_param, newtrain, newtest, verbose, n_jobs, type_)\u001b[0m\n\u001b[1;32m     46\u001b[0m     \u001b[0minitP\u001b[0m\u001b[0;34m.\u001b[0m\u001b[0mset_params\u001b[0m\u001b[0;34m(\u001b[0m\u001b[0;34m**\u001b[0m\u001b[0mset_param\u001b[0m\u001b[0;34m)\u001b[0m\u001b[0;34m\u001b[0m\u001b[0;34m\u001b[0m\u001b[0m\n\u001b[1;32m     47\u001b[0m     \u001b[0mp_gs\u001b[0m\u001b[0;34m=\u001b[0m\u001b[0mGridSearchCV\u001b[0m\u001b[0;34m(\u001b[0m\u001b[0minitP\u001b[0m\u001b[0;34m,\u001b[0m\u001b[0mparam_grid\u001b[0m\u001b[0;34m=\u001b[0m\u001b[0mcv_param\u001b[0m\u001b[0;34m,\u001b[0m\u001b[0mcv\u001b[0m\u001b[0;34m=\u001b[0m\u001b[0;36m5\u001b[0m\u001b[0;34m,\u001b[0m\u001b[0mverbose\u001b[0m\u001b[0;34m=\u001b[0m\u001b[0;36m3\u001b[0m\u001b[0;34m,\u001b[0m\u001b[0mn_jobs\u001b[0m\u001b[0;34m=\u001b[0m\u001b[0mn_jobs\u001b[0m\u001b[0;34m,\u001b[0m\u001b[0mscoring\u001b[0m\u001b[0;34m=\u001b[0m\u001b[0;34m'f1'\u001b[0m\u001b[0;34m)\u001b[0m\u001b[0;34m\u001b[0m\u001b[0;34m\u001b[0m\u001b[0m\n\u001b[0;32m---> 48\u001b[0;31m     \u001b[0mp_gs\u001b[0m\u001b[0;34m.\u001b[0m\u001b[0mfit\u001b[0m\u001b[0;34m(\u001b[0m\u001b[0mnewtrain\u001b[0m\u001b[0;34m.\u001b[0m\u001b[0mdrop\u001b[0m\u001b[0;34m(\u001b[0m\u001b[0mcolumns\u001b[0m\u001b[0;34m=\u001b[0m\u001b[0;34m[\u001b[0m\u001b[0;34m'TARGET'\u001b[0m\u001b[0;34m,\u001b[0m\u001b[0;34m'SK_ID_CURR'\u001b[0m\u001b[0;34m]\u001b[0m\u001b[0;34m)\u001b[0m\u001b[0;34m.\u001b[0m\u001b[0mvalues\u001b[0m\u001b[0;34m,\u001b[0m\u001b[0mnewtrain\u001b[0m\u001b[0;34m[\u001b[0m\u001b[0;34m'TARGET'\u001b[0m\u001b[0;34m]\u001b[0m\u001b[0;34m.\u001b[0m\u001b[0mvalues\u001b[0m\u001b[0;34m)\u001b[0m\u001b[0;34m\u001b[0m\u001b[0;34m\u001b[0m\u001b[0m\n\u001b[0m\u001b[1;32m     49\u001b[0m     \u001b[0;32mif\u001b[0m \u001b[0mverbose\u001b[0m\u001b[0;34m>=\u001b[0m\u001b[0;36m3\u001b[0m\u001b[0;34m:\u001b[0m\u001b[0;34m\u001b[0m\u001b[0;34m\u001b[0m\u001b[0m\n\u001b[1;32m     50\u001b[0m         \u001b[0mprint\u001b[0m\u001b[0;34m(\u001b[0m\u001b[0;34m'cv_results:\\n'\u001b[0m\u001b[0;34m,\u001b[0m\u001b[0mp_gs\u001b[0m\u001b[0;34m.\u001b[0m\u001b[0mcv_results_\u001b[0m\u001b[0;34m)\u001b[0m\u001b[0;34m\u001b[0m\u001b[0;34m\u001b[0m\u001b[0m\n",
            "\u001b[0;32m/usr/local/lib/python3.7/dist-packages/sklearn/model_selection/_search.py\u001b[0m in \u001b[0;36mfit\u001b[0;34m(self, X, y, groups, **fit_params)\u001b[0m\n\u001b[1;32m    737\u001b[0m             \u001b[0mrefit_start_time\u001b[0m \u001b[0;34m=\u001b[0m \u001b[0mtime\u001b[0m\u001b[0;34m.\u001b[0m\u001b[0mtime\u001b[0m\u001b[0;34m(\u001b[0m\u001b[0;34m)\u001b[0m\u001b[0;34m\u001b[0m\u001b[0;34m\u001b[0m\u001b[0m\n\u001b[1;32m    738\u001b[0m             \u001b[0;32mif\u001b[0m \u001b[0my\u001b[0m \u001b[0;32mis\u001b[0m \u001b[0;32mnot\u001b[0m \u001b[0;32mNone\u001b[0m\u001b[0;34m:\u001b[0m\u001b[0;34m\u001b[0m\u001b[0;34m\u001b[0m\u001b[0m\n\u001b[0;32m--> 739\u001b[0;31m                 \u001b[0mself\u001b[0m\u001b[0;34m.\u001b[0m\u001b[0mbest_estimator_\u001b[0m\u001b[0;34m.\u001b[0m\u001b[0mfit\u001b[0m\u001b[0;34m(\u001b[0m\u001b[0mX\u001b[0m\u001b[0;34m,\u001b[0m \u001b[0my\u001b[0m\u001b[0;34m,\u001b[0m \u001b[0;34m**\u001b[0m\u001b[0mfit_params\u001b[0m\u001b[0;34m)\u001b[0m\u001b[0;34m\u001b[0m\u001b[0;34m\u001b[0m\u001b[0m\n\u001b[0m\u001b[1;32m    740\u001b[0m             \u001b[0;32melse\u001b[0m\u001b[0;34m:\u001b[0m\u001b[0;34m\u001b[0m\u001b[0;34m\u001b[0m\u001b[0m\n\u001b[1;32m    741\u001b[0m                 \u001b[0mself\u001b[0m\u001b[0;34m.\u001b[0m\u001b[0mbest_estimator_\u001b[0m\u001b[0;34m.\u001b[0m\u001b[0mfit\u001b[0m\u001b[0;34m(\u001b[0m\u001b[0mX\u001b[0m\u001b[0;34m,\u001b[0m \u001b[0;34m**\u001b[0m\u001b[0mfit_params\u001b[0m\u001b[0;34m)\u001b[0m\u001b[0;34m\u001b[0m\u001b[0;34m\u001b[0m\u001b[0m\n",
            "\u001b[0;32m/usr/local/lib/python3.7/dist-packages/imblearn/pipeline.py\u001b[0m in \u001b[0;36mfit\u001b[0;34m(self, X, y, **fit_params)\u001b[0m\n\u001b[1;32m    235\u001b[0m \u001b[0;34m\u001b[0m\u001b[0m\n\u001b[1;32m    236\u001b[0m         \"\"\"\n\u001b[0;32m--> 237\u001b[0;31m         \u001b[0mXt\u001b[0m\u001b[0;34m,\u001b[0m \u001b[0myt\u001b[0m\u001b[0;34m,\u001b[0m \u001b[0mfit_params\u001b[0m \u001b[0;34m=\u001b[0m \u001b[0mself\u001b[0m\u001b[0;34m.\u001b[0m\u001b[0m_fit\u001b[0m\u001b[0;34m(\u001b[0m\u001b[0mX\u001b[0m\u001b[0;34m,\u001b[0m \u001b[0my\u001b[0m\u001b[0;34m,\u001b[0m \u001b[0;34m**\u001b[0m\u001b[0mfit_params\u001b[0m\u001b[0;34m)\u001b[0m\u001b[0;34m\u001b[0m\u001b[0;34m\u001b[0m\u001b[0m\n\u001b[0m\u001b[1;32m    238\u001b[0m         \u001b[0;32mif\u001b[0m \u001b[0mself\u001b[0m\u001b[0;34m.\u001b[0m\u001b[0m_final_estimator\u001b[0m \u001b[0;32mis\u001b[0m \u001b[0;32mnot\u001b[0m \u001b[0;32mNone\u001b[0m\u001b[0;34m:\u001b[0m\u001b[0;34m\u001b[0m\u001b[0;34m\u001b[0m\u001b[0m\n\u001b[1;32m    239\u001b[0m             \u001b[0mself\u001b[0m\u001b[0;34m.\u001b[0m\u001b[0m_final_estimator\u001b[0m\u001b[0;34m.\u001b[0m\u001b[0mfit\u001b[0m\u001b[0;34m(\u001b[0m\u001b[0mXt\u001b[0m\u001b[0;34m,\u001b[0m \u001b[0myt\u001b[0m\u001b[0;34m,\u001b[0m \u001b[0;34m**\u001b[0m\u001b[0mfit_params\u001b[0m\u001b[0;34m)\u001b[0m\u001b[0;34m\u001b[0m\u001b[0;34m\u001b[0m\u001b[0m\n",
            "\u001b[0;32m/usr/local/lib/python3.7/dist-packages/imblearn/pipeline.py\u001b[0m in \u001b[0;36m_fit\u001b[0;34m(self, X, y, **fit_params)\u001b[0m\n\u001b[1;32m    195\u001b[0m                     Xt, fitted_transformer = fit_transform_one_cached(\n\u001b[1;32m    196\u001b[0m                         \u001b[0mcloned_transformer\u001b[0m\u001b[0;34m,\u001b[0m \u001b[0;32mNone\u001b[0m\u001b[0;34m,\u001b[0m \u001b[0mXt\u001b[0m\u001b[0;34m,\u001b[0m \u001b[0myt\u001b[0m\u001b[0;34m,\u001b[0m\u001b[0;34m\u001b[0m\u001b[0;34m\u001b[0m\u001b[0m\n\u001b[0;32m--> 197\u001b[0;31m                         **fit_params_steps[name])\n\u001b[0m\u001b[1;32m    198\u001b[0m                 \u001b[0;32melif\u001b[0m \u001b[0mhasattr\u001b[0m\u001b[0;34m(\u001b[0m\u001b[0mcloned_transformer\u001b[0m\u001b[0;34m,\u001b[0m \u001b[0;34m\"fit_resample\"\u001b[0m\u001b[0;34m)\u001b[0m\u001b[0;34m:\u001b[0m\u001b[0;34m\u001b[0m\u001b[0;34m\u001b[0m\u001b[0m\n\u001b[1;32m    199\u001b[0m                     Xt, yt, fitted_transformer = fit_resample_one_cached(\n",
            "\u001b[0;32m/usr/local/lib/python3.7/dist-packages/joblib/memory.py\u001b[0m in \u001b[0;36m__call__\u001b[0;34m(self, *args, **kwargs)\u001b[0m\n\u001b[1;32m    350\u001b[0m \u001b[0;34m\u001b[0m\u001b[0m\n\u001b[1;32m    351\u001b[0m     \u001b[0;32mdef\u001b[0m \u001b[0m__call__\u001b[0m\u001b[0;34m(\u001b[0m\u001b[0mself\u001b[0m\u001b[0;34m,\u001b[0m \u001b[0;34m*\u001b[0m\u001b[0margs\u001b[0m\u001b[0;34m,\u001b[0m \u001b[0;34m**\u001b[0m\u001b[0mkwargs\u001b[0m\u001b[0;34m)\u001b[0m\u001b[0;34m:\u001b[0m\u001b[0;34m\u001b[0m\u001b[0;34m\u001b[0m\u001b[0m\n\u001b[0;32m--> 352\u001b[0;31m         \u001b[0;32mreturn\u001b[0m \u001b[0mself\u001b[0m\u001b[0;34m.\u001b[0m\u001b[0mfunc\u001b[0m\u001b[0;34m(\u001b[0m\u001b[0;34m*\u001b[0m\u001b[0margs\u001b[0m\u001b[0;34m,\u001b[0m \u001b[0;34m**\u001b[0m\u001b[0mkwargs\u001b[0m\u001b[0;34m)\u001b[0m\u001b[0;34m\u001b[0m\u001b[0;34m\u001b[0m\u001b[0m\n\u001b[0m\u001b[1;32m    353\u001b[0m \u001b[0;34m\u001b[0m\u001b[0m\n\u001b[1;32m    354\u001b[0m     \u001b[0;32mdef\u001b[0m \u001b[0mcall_and_shelve\u001b[0m\u001b[0;34m(\u001b[0m\u001b[0mself\u001b[0m\u001b[0;34m,\u001b[0m \u001b[0;34m*\u001b[0m\u001b[0margs\u001b[0m\u001b[0;34m,\u001b[0m \u001b[0;34m**\u001b[0m\u001b[0mkwargs\u001b[0m\u001b[0;34m)\u001b[0m\u001b[0;34m:\u001b[0m\u001b[0;34m\u001b[0m\u001b[0;34m\u001b[0m\u001b[0m\n",
            "\u001b[0;32m/usr/local/lib/python3.7/dist-packages/imblearn/pipeline.py\u001b[0m in \u001b[0;36m_fit_transform_one\u001b[0;34m(transformer, weight, X, y, **fit_params)\u001b[0m\n\u001b[1;32m    564\u001b[0m \u001b[0;32mdef\u001b[0m \u001b[0m_fit_transform_one\u001b[0m\u001b[0;34m(\u001b[0m\u001b[0mtransformer\u001b[0m\u001b[0;34m,\u001b[0m \u001b[0mweight\u001b[0m\u001b[0;34m,\u001b[0m \u001b[0mX\u001b[0m\u001b[0;34m,\u001b[0m \u001b[0my\u001b[0m\u001b[0;34m,\u001b[0m \u001b[0;34m**\u001b[0m\u001b[0mfit_params\u001b[0m\u001b[0;34m)\u001b[0m\u001b[0;34m:\u001b[0m\u001b[0;34m\u001b[0m\u001b[0;34m\u001b[0m\u001b[0m\n\u001b[1;32m    565\u001b[0m     \u001b[0;32mif\u001b[0m \u001b[0mhasattr\u001b[0m\u001b[0;34m(\u001b[0m\u001b[0mtransformer\u001b[0m\u001b[0;34m,\u001b[0m \u001b[0;34m'fit_transform'\u001b[0m\u001b[0;34m)\u001b[0m\u001b[0;34m:\u001b[0m\u001b[0;34m\u001b[0m\u001b[0;34m\u001b[0m\u001b[0m\n\u001b[0;32m--> 566\u001b[0;31m         \u001b[0mres\u001b[0m \u001b[0;34m=\u001b[0m \u001b[0mtransformer\u001b[0m\u001b[0;34m.\u001b[0m\u001b[0mfit_transform\u001b[0m\u001b[0;34m(\u001b[0m\u001b[0mX\u001b[0m\u001b[0;34m,\u001b[0m \u001b[0my\u001b[0m\u001b[0;34m,\u001b[0m \u001b[0;34m**\u001b[0m\u001b[0mfit_params\u001b[0m\u001b[0;34m)\u001b[0m\u001b[0;34m\u001b[0m\u001b[0;34m\u001b[0m\u001b[0m\n\u001b[0m\u001b[1;32m    567\u001b[0m     \u001b[0;32melse\u001b[0m\u001b[0;34m:\u001b[0m\u001b[0;34m\u001b[0m\u001b[0;34m\u001b[0m\u001b[0m\n\u001b[1;32m    568\u001b[0m         \u001b[0mres\u001b[0m \u001b[0;34m=\u001b[0m \u001b[0mtransformer\u001b[0m\u001b[0;34m.\u001b[0m\u001b[0mfit\u001b[0m\u001b[0;34m(\u001b[0m\u001b[0mX\u001b[0m\u001b[0;34m,\u001b[0m \u001b[0my\u001b[0m\u001b[0;34m,\u001b[0m \u001b[0;34m**\u001b[0m\u001b[0mfit_params\u001b[0m\u001b[0;34m)\u001b[0m\u001b[0;34m.\u001b[0m\u001b[0mtransform\u001b[0m\u001b[0;34m(\u001b[0m\u001b[0mX\u001b[0m\u001b[0;34m)\u001b[0m\u001b[0;34m\u001b[0m\u001b[0;34m\u001b[0m\u001b[0m\n",
            "\u001b[0;32m/usr/local/lib/python3.7/dist-packages/category_encoders/utils.py\u001b[0m in \u001b[0;36mfit_transform\u001b[0;34m(self, X, y, **fit_params)\u001b[0m\n\u001b[1;32m    148\u001b[0m         \u001b[0;32mif\u001b[0m \u001b[0my\u001b[0m \u001b[0;32mis\u001b[0m \u001b[0;32mNone\u001b[0m\u001b[0;34m:\u001b[0m\u001b[0;34m\u001b[0m\u001b[0;34m\u001b[0m\u001b[0m\n\u001b[1;32m    149\u001b[0m             \u001b[0;32mraise\u001b[0m \u001b[0mTypeError\u001b[0m\u001b[0;34m(\u001b[0m\u001b[0;34m'fit_transform() missing argument: '\u001b[0m\u001b[0;34m'y'\u001b[0m\u001b[0;34m''\u001b[0m\u001b[0;34m)\u001b[0m\u001b[0;34m\u001b[0m\u001b[0;34m\u001b[0m\u001b[0m\n\u001b[0;32m--> 150\u001b[0;31m         \u001b[0;32mreturn\u001b[0m \u001b[0mself\u001b[0m\u001b[0;34m.\u001b[0m\u001b[0mfit\u001b[0m\u001b[0;34m(\u001b[0m\u001b[0mX\u001b[0m\u001b[0;34m,\u001b[0m \u001b[0my\u001b[0m\u001b[0;34m,\u001b[0m \u001b[0;34m**\u001b[0m\u001b[0mfit_params\u001b[0m\u001b[0;34m)\u001b[0m\u001b[0;34m.\u001b[0m\u001b[0mtransform\u001b[0m\u001b[0;34m(\u001b[0m\u001b[0mX\u001b[0m\u001b[0;34m,\u001b[0m \u001b[0my\u001b[0m\u001b[0;34m)\u001b[0m\u001b[0;34m\u001b[0m\u001b[0;34m\u001b[0m\u001b[0m\n\u001b[0m",
            "\u001b[0;32m/usr/local/lib/python3.7/dist-packages/category_encoders/target_encoder.py\u001b[0m in \u001b[0;36mfit\u001b[0;34m(self, X, y, **kwargs)\u001b[0m\n\u001b[1;32m    138\u001b[0m             \u001b[0mhandle_missing\u001b[0m\u001b[0;34m=\u001b[0m\u001b[0;34m'value'\u001b[0m\u001b[0;34m\u001b[0m\u001b[0;34m\u001b[0m\u001b[0m\n\u001b[1;32m    139\u001b[0m         )\n\u001b[0;32m--> 140\u001b[0;31m         \u001b[0mself\u001b[0m\u001b[0;34m.\u001b[0m\u001b[0mordinal_encoder\u001b[0m \u001b[0;34m=\u001b[0m \u001b[0mself\u001b[0m\u001b[0;34m.\u001b[0m\u001b[0mordinal_encoder\u001b[0m\u001b[0;34m.\u001b[0m\u001b[0mfit\u001b[0m\u001b[0;34m(\u001b[0m\u001b[0mX\u001b[0m\u001b[0;34m)\u001b[0m\u001b[0;34m\u001b[0m\u001b[0;34m\u001b[0m\u001b[0m\n\u001b[0m\u001b[1;32m    141\u001b[0m         \u001b[0mX_ordinal\u001b[0m \u001b[0;34m=\u001b[0m \u001b[0mself\u001b[0m\u001b[0;34m.\u001b[0m\u001b[0mordinal_encoder\u001b[0m\u001b[0;34m.\u001b[0m\u001b[0mtransform\u001b[0m\u001b[0;34m(\u001b[0m\u001b[0mX\u001b[0m\u001b[0;34m)\u001b[0m\u001b[0;34m\u001b[0m\u001b[0;34m\u001b[0m\u001b[0m\n\u001b[1;32m    142\u001b[0m         \u001b[0mself\u001b[0m\u001b[0;34m.\u001b[0m\u001b[0mmapping\u001b[0m \u001b[0;34m=\u001b[0m \u001b[0mself\u001b[0m\u001b[0;34m.\u001b[0m\u001b[0mfit_target_encoding\u001b[0m\u001b[0;34m(\u001b[0m\u001b[0mX_ordinal\u001b[0m\u001b[0;34m,\u001b[0m \u001b[0my\u001b[0m\u001b[0;34m)\u001b[0m\u001b[0;34m\u001b[0m\u001b[0;34m\u001b[0m\u001b[0m\n",
            "\u001b[0;32m/usr/local/lib/python3.7/dist-packages/category_encoders/ordinal.py\u001b[0m in \u001b[0;36mfit\u001b[0;34m(self, X, y, **kwargs)\u001b[0m\n\u001b[1;32m    142\u001b[0m             \u001b[0mcols\u001b[0m\u001b[0;34m=\u001b[0m\u001b[0mself\u001b[0m\u001b[0;34m.\u001b[0m\u001b[0mcols\u001b[0m\u001b[0;34m,\u001b[0m\u001b[0;34m\u001b[0m\u001b[0;34m\u001b[0m\u001b[0m\n\u001b[1;32m    143\u001b[0m             \u001b[0mhandle_unknown\u001b[0m\u001b[0;34m=\u001b[0m\u001b[0mself\u001b[0m\u001b[0;34m.\u001b[0m\u001b[0mhandle_unknown\u001b[0m\u001b[0;34m,\u001b[0m\u001b[0;34m\u001b[0m\u001b[0;34m\u001b[0m\u001b[0m\n\u001b[0;32m--> 144\u001b[0;31m             \u001b[0mhandle_missing\u001b[0m\u001b[0;34m=\u001b[0m\u001b[0mself\u001b[0m\u001b[0;34m.\u001b[0m\u001b[0mhandle_missing\u001b[0m\u001b[0;34m\u001b[0m\u001b[0;34m\u001b[0m\u001b[0m\n\u001b[0m\u001b[1;32m    145\u001b[0m         )\n\u001b[1;32m    146\u001b[0m         \u001b[0mself\u001b[0m\u001b[0;34m.\u001b[0m\u001b[0mmapping\u001b[0m \u001b[0;34m=\u001b[0m \u001b[0mcategories\u001b[0m\u001b[0;34m\u001b[0m\u001b[0;34m\u001b[0m\u001b[0m\n",
            "\u001b[0;32m/usr/local/lib/python3.7/dist-packages/category_encoders/ordinal.py\u001b[0m in \u001b[0;36mordinal_encoding\u001b[0;34m(X_in, mapping, cols, handle_unknown, handle_missing)\u001b[0m\n\u001b[1;32m    321\u001b[0m                 \u001b[0mnan_identity\u001b[0m \u001b[0;34m=\u001b[0m \u001b[0mnp\u001b[0m\u001b[0;34m.\u001b[0m\u001b[0mnan\u001b[0m\u001b[0;34m\u001b[0m\u001b[0;34m\u001b[0m\u001b[0m\n\u001b[1;32m    322\u001b[0m \u001b[0;34m\u001b[0m\u001b[0m\n\u001b[0;32m--> 323\u001b[0;31m                 \u001b[0mcategories\u001b[0m \u001b[0;34m=\u001b[0m \u001b[0mX\u001b[0m\u001b[0;34m[\u001b[0m\u001b[0mcol\u001b[0m\u001b[0;34m]\u001b[0m\u001b[0;34m.\u001b[0m\u001b[0munique\u001b[0m\u001b[0;34m(\u001b[0m\u001b[0;34m)\u001b[0m\u001b[0;34m.\u001b[0m\u001b[0mtolist\u001b[0m\u001b[0;34m(\u001b[0m\u001b[0;34m)\u001b[0m\u001b[0;34m\u001b[0m\u001b[0;34m\u001b[0m\u001b[0m\n\u001b[0m\u001b[1;32m    324\u001b[0m                 \u001b[0;32mif\u001b[0m \u001b[0mutil\u001b[0m\u001b[0;34m.\u001b[0m\u001b[0mis_category\u001b[0m\u001b[0;34m(\u001b[0m\u001b[0mX\u001b[0m\u001b[0;34m[\u001b[0m\u001b[0mcol\u001b[0m\u001b[0;34m]\u001b[0m\u001b[0;34m.\u001b[0m\u001b[0mdtype\u001b[0m\u001b[0;34m)\u001b[0m\u001b[0;34m:\u001b[0m\u001b[0;34m\u001b[0m\u001b[0;34m\u001b[0m\u001b[0m\n\u001b[1;32m    325\u001b[0m                     \u001b[0;31m# Avoid using pandas category dtype meta-data if possible, see #235, #238.\u001b[0m\u001b[0;34m\u001b[0m\u001b[0;34m\u001b[0m\u001b[0;34m\u001b[0m\u001b[0m\n",
            "\u001b[0;32m/usr/local/lib/python3.7/dist-packages/pandas/core/frame.py\u001b[0m in \u001b[0;36m__getitem__\u001b[0;34m(self, key)\u001b[0m\n\u001b[1;32m   2904\u001b[0m             \u001b[0;32mif\u001b[0m \u001b[0mself\u001b[0m\u001b[0;34m.\u001b[0m\u001b[0mcolumns\u001b[0m\u001b[0;34m.\u001b[0m\u001b[0mnlevels\u001b[0m \u001b[0;34m>\u001b[0m \u001b[0;36m1\u001b[0m\u001b[0;34m:\u001b[0m\u001b[0;34m\u001b[0m\u001b[0;34m\u001b[0m\u001b[0m\n\u001b[1;32m   2905\u001b[0m                 \u001b[0;32mreturn\u001b[0m \u001b[0mself\u001b[0m\u001b[0;34m.\u001b[0m\u001b[0m_getitem_multilevel\u001b[0m\u001b[0;34m(\u001b[0m\u001b[0mkey\u001b[0m\u001b[0;34m)\u001b[0m\u001b[0;34m\u001b[0m\u001b[0;34m\u001b[0m\u001b[0m\n\u001b[0;32m-> 2906\u001b[0;31m             \u001b[0mindexer\u001b[0m \u001b[0;34m=\u001b[0m \u001b[0mself\u001b[0m\u001b[0;34m.\u001b[0m\u001b[0mcolumns\u001b[0m\u001b[0;34m.\u001b[0m\u001b[0mget_loc\u001b[0m\u001b[0;34m(\u001b[0m\u001b[0mkey\u001b[0m\u001b[0;34m)\u001b[0m\u001b[0;34m\u001b[0m\u001b[0;34m\u001b[0m\u001b[0m\n\u001b[0m\u001b[1;32m   2907\u001b[0m             \u001b[0;32mif\u001b[0m \u001b[0mis_integer\u001b[0m\u001b[0;34m(\u001b[0m\u001b[0mindexer\u001b[0m\u001b[0;34m)\u001b[0m\u001b[0;34m:\u001b[0m\u001b[0;34m\u001b[0m\u001b[0;34m\u001b[0m\u001b[0m\n\u001b[1;32m   2908\u001b[0m                 \u001b[0mindexer\u001b[0m \u001b[0;34m=\u001b[0m \u001b[0;34m[\u001b[0m\u001b[0mindexer\u001b[0m\u001b[0;34m]\u001b[0m\u001b[0;34m\u001b[0m\u001b[0;34m\u001b[0m\u001b[0m\n",
            "\u001b[0;32m/usr/local/lib/python3.7/dist-packages/pandas/core/indexes/range.py\u001b[0m in \u001b[0;36mget_loc\u001b[0;34m(self, key, method, tolerance)\u001b[0m\n\u001b[1;32m    356\u001b[0m                 \u001b[0;32mexcept\u001b[0m \u001b[0mValueError\u001b[0m \u001b[0;32mas\u001b[0m \u001b[0merr\u001b[0m\u001b[0;34m:\u001b[0m\u001b[0;34m\u001b[0m\u001b[0;34m\u001b[0m\u001b[0m\n\u001b[1;32m    357\u001b[0m                     \u001b[0;32mraise\u001b[0m \u001b[0mKeyError\u001b[0m\u001b[0;34m(\u001b[0m\u001b[0mkey\u001b[0m\u001b[0;34m)\u001b[0m \u001b[0;32mfrom\u001b[0m \u001b[0merr\u001b[0m\u001b[0;34m\u001b[0m\u001b[0;34m\u001b[0m\u001b[0m\n\u001b[0;32m--> 358\u001b[0;31m             \u001b[0;32mraise\u001b[0m \u001b[0mKeyError\u001b[0m\u001b[0;34m(\u001b[0m\u001b[0mkey\u001b[0m\u001b[0;34m)\u001b[0m\u001b[0;34m\u001b[0m\u001b[0;34m\u001b[0m\u001b[0m\n\u001b[0m\u001b[1;32m    359\u001b[0m         \u001b[0;32mreturn\u001b[0m \u001b[0msuper\u001b[0m\u001b[0;34m(\u001b[0m\u001b[0;34m)\u001b[0m\u001b[0;34m.\u001b[0m\u001b[0mget_loc\u001b[0m\u001b[0;34m(\u001b[0m\u001b[0mkey\u001b[0m\u001b[0;34m,\u001b[0m \u001b[0mmethod\u001b[0m\u001b[0;34m=\u001b[0m\u001b[0mmethod\u001b[0m\u001b[0;34m,\u001b[0m \u001b[0mtolerance\u001b[0m\u001b[0;34m=\u001b[0m\u001b[0mtolerance\u001b[0m\u001b[0;34m)\u001b[0m\u001b[0;34m\u001b[0m\u001b[0;34m\u001b[0m\u001b[0m\n\u001b[1;32m    360\u001b[0m \u001b[0;34m\u001b[0m\u001b[0m\n",
            "\u001b[0;31mKeyError\u001b[0m: 'NAME_CONTRACT_TYPE'"
          ]
        }
      ]
    },
    {
      "cell_type": "code",
      "metadata": {
        "colab": {
          "base_uri": "https://localhost:8080/"
        },
        "id": "wGEn6KXcNaty",
        "outputId": "dc783956-1848-4918-ee3d-692441e72f09"
      },
      "source": [
        "newtest['NAME_CONTRACT_TYPE']"
      ],
      "execution_count": null,
      "outputs": [
        {
          "output_type": "execute_result",
          "data": {
            "text/plain": [
              "0             Cash loans\n",
              "1             Cash loans\n",
              "2             Cash loans\n",
              "3             Cash loans\n",
              "4        Revolving loans\n",
              "              ...       \n",
              "24596    Revolving loans\n",
              "24597         Cash loans\n",
              "24598         Cash loans\n",
              "24599    Revolving loans\n",
              "24600         Cash loans\n",
              "Name: NAME_CONTRACT_TYPE, Length: 24601, dtype: object"
            ]
          },
          "metadata": {
            "tags": []
          },
          "execution_count": 34
        }
      ]
    },
    {
      "cell_type": "code",
      "metadata": {
        "colab": {
          "base_uri": "https://localhost:8080/"
        },
        "id": "QiPdCvpCatO4",
        "outputId": "2e08e6bf-d7f3-47fb-8441-30d7b0f5e7c4"
      },
      "source": [
        "'NAME_CONTRACT_TYPE' in newtrain.select_dtypes(include='object').columns"
      ],
      "execution_count": null,
      "outputs": [
        {
          "output_type": "execute_result",
          "data": {
            "text/plain": [
              "True"
            ]
          },
          "metadata": {
            "tags": []
          },
          "execution_count": 36
        }
      ]
    },
    {
      "cell_type": "code",
      "metadata": {
        "colab": {
          "base_uri": "https://localhost:8080/"
        },
        "id": "kBSqIU0bffVz",
        "outputId": "1026aa5c-06d1-49c7-e12a-257e033185cb"
      },
      "source": [
        "estimators=[('targetencode',target_encoder.TargetEncoder()),('sm',SMOTE(random_state=SEED)),('randomforest',RandomForestClassifier())]\n",
        "init_param=dict(targetencode__cols=newtrain.select_dtypes(include='object').columns,randomforest__max_depth= 12, randomforest__n_estimators= 5)\n",
        "P_rf_sm=Pipeline(estimators)\n",
        "P_rf_sm.set_params(**init_param)"
      ],
      "execution_count": null,
      "outputs": [
        {
          "output_type": "execute_result",
          "data": {
            "text/plain": [
              "Pipeline(memory=None,\n",
              "         steps=[('targetencode',\n",
              "                 TargetEncoder(cols=Index(['NAME_CONTRACT_TYPE', 'CODE_GENDER', 'FLAG_OWN_CAR', 'FLAG_OWN_REALTY',\n",
              "       'NAME_TYPE_SUITE', 'NAME_INCOME_TYPE', 'NAME_EDUCATION_TYPE',\n",
              "       'NAME_FAMILY_STATUS', 'NAME_HOUSING_TYPE', 'OCCUPATION_TYPE',\n",
              "       'WEEKDAY_APPR_PROCESS_START', 'ORGANIZATION_TYPE'],\n",
              "      dtype='object'),\n",
              "                               drop_invariant=False, handle_...\n",
              "                 RandomForestClassifier(bootstrap=True, ccp_alpha=0.0,\n",
              "                                        class_weight=None, criterion='gini',\n",
              "                                        max_depth=12, max_features='auto',\n",
              "                                        max_leaf_nodes=None, max_samples=None,\n",
              "                                        min_impurity_decrease=0.0,\n",
              "                                        min_impurity_split=None,\n",
              "                                        min_samples_leaf=1, min_samples_split=2,\n",
              "                                        min_weight_fraction_leaf=0.0,\n",
              "                                        n_estimators=5, n_jobs=None,\n",
              "                                        oob_score=False, random_state=None,\n",
              "                                        verbose=0, warm_start=False))],\n",
              "         verbose=False)"
            ]
          },
          "metadata": {
            "tags": []
          },
          "execution_count": 10
        }
      ]
    },
    {
      "cell_type": "code",
      "metadata": {
        "id": "cjXrl84YnUJs"
      },
      "source": [
        "# estimators=[('targetencode',target_encoder.TargetEncoder()),('sm',SMOTE(random_state=SEED)),('randomforest',RandomForestClassifier())]\n",
        "# init_param=dict(targetencode__cols=newtrain.select_dtypes(include='object').columns,randomforest__max_depth= 12, randomforest__n_estimators= 5)\n",
        "# P_rf_sm=Pipeline(estimators)\n",
        "# P_rf_sm.set_params(**init_param)\n",
        "\n",
        "# estimators=[('targetencode',target_encoder.TargetEncoder()),('sm',SMOTE(random_state=SEED)),('xgb',XGBClassifier())]\n",
        "# init_param=dict(targetencode__cols=newtrain.select_dtypes(include='object').columns,xgb__tree_method='gpu_hist',xgb__max_depth= 5, xgb__n_estimators= 500)\n",
        "# P_xgb_sm=Pipeline(estimators)\n",
        "# P_xgb_sm.set_params(**init_param)\n",
        "\n",
        "# init_param={\n",
        "#     'final_estimator__C': 0.5\n",
        "# }\n",
        "\n",
        "# estimators = [\n",
        "#         ('rf', P_rf_sm),\n",
        "#         ('xgb', P_xgb_sm)\n",
        "#  ]\n",
        "# final_estimator=LogisticRegression()\n",
        "\n",
        "# param_grid={\n",
        "# }\n",
        "\n",
        "# import time\n",
        "# time_start=time.time()\n",
        "\n",
        "# initP_stack,P_stack=makepipe_getres(\n",
        "#     estimators,\n",
        "#     init_param,\n",
        "#     param_grid,\n",
        "#     type_='Stacking',\n",
        "#     verbose=2\n",
        "# )\n",
        "\n",
        "# time_end=time.time()\n",
        "# print('totally cost',time_end-time_start)"
      ],
      "execution_count": null,
      "outputs": []
    },
    {
      "cell_type": "code",
      "metadata": {
        "colab": {
          "base_uri": "https://localhost:8080/"
        },
        "id": "uutAUtSJfk1b",
        "outputId": "8b7e2833-ded0-47a7-85c8-f07958de080c"
      },
      "source": [
        "estimators=[('targetencode',target_encoder.TargetEncoder()),('sm',SMOTE(random_state=SEED)),('xgb',XGBClassifier())]\n",
        "init_param=dict(targetencode__cols=newtrain.select_dtypes(include='object').columns,xgb__tree_method='gpu_hist',xgb__max_depth= 5, xgb__n_estimators= 500)\n",
        "P_xgb_sm=Pipeline(estimators)\n",
        "P_xgb_sm.set_params(**init_param)"
      ],
      "execution_count": null,
      "outputs": [
        {
          "output_type": "execute_result",
          "data": {
            "text/plain": [
              "Pipeline(memory=None,\n",
              "         steps=[('targetencode',\n",
              "                 TargetEncoder(cols=Index(['NAME_CONTRACT_TYPE', 'CODE_GENDER', 'FLAG_OWN_CAR', 'FLAG_OWN_REALTY',\n",
              "       'NAME_TYPE_SUITE', 'NAME_INCOME_TYPE', 'NAME_EDUCATION_TYPE',\n",
              "       'NAME_FAMILY_STATUS', 'NAME_HOUSING_TYPE', 'OCCUPATION_TYPE',\n",
              "       'WEEKDAY_APPR_PROCESS_START', 'ORGANIZATION_TYPE'],\n",
              "      dtype='object'),\n",
              "                               drop_invariant=False, handle_...\n",
              "                               max_delta_step=None, max_depth=5,\n",
              "                               min_child_weight=None, missing=nan,\n",
              "                               monotone_constraints=None, n_estimators=500,\n",
              "                               n_jobs=None, num_parallel_tree=None,\n",
              "                               objective='binary:logistic', random_state=None,\n",
              "                               reg_alpha=None, reg_lambda=None,\n",
              "                               scale_pos_weight=None, subsample=None,\n",
              "                               tree_method='gpu_hist', use_label_encoder=True,\n",
              "                               validate_parameters=None, verbosity=None))],\n",
              "         verbose=False)"
            ]
          },
          "metadata": {
            "tags": []
          },
          "execution_count": 11
        }
      ]
    },
    {
      "cell_type": "code",
      "metadata": {
        "colab": {
          "base_uri": "https://localhost:8080/",
          "height": 677
        },
        "id": "Ov8D21_cgDbU",
        "outputId": "6527af37-ca67-4523-ee96-e343d6ed348b"
      },
      "source": [
        "init_param={\n",
        "    'final_estimator__C': 0.5\n",
        "}\n",
        "\n",
        "estimators = [\n",
        "        ('rf', P_rf_sm),\n",
        "        ('xgb', P_xgb_sm)\n",
        " ]\n",
        "final_estimator=LogisticRegression()\n",
        "\n",
        "param_grid={\n",
        "}\n",
        "\n",
        "import time\n",
        "time_start=time.time()\n",
        "\n",
        "initP_stack,P_stack=makepipe_getres(\n",
        "    estimators,\n",
        "    init_param,\n",
        "    param_grid,\n",
        "    type_='Stacking',\n",
        "    verbose=2\n",
        ")\n",
        "\n",
        "time_end=time.time()\n",
        "print('totally cost',time_end-time_start)"
      ],
      "execution_count": null,
      "outputs": [
        {
          "output_type": "stream",
          "text": [
            "Fitting 5 folds for each of 1 candidates, totalling 5 fits\n"
          ],
          "name": "stdout"
        },
        {
          "output_type": "stream",
          "text": [
            "[Parallel(n_jobs=5)]: Using backend LokyBackend with 5 concurrent workers.\n",
            "[Parallel(n_jobs=5)]: Done   2 out of   5 | elapsed:  4.4min remaining:  6.6min\n",
            "[Parallel(n_jobs=5)]: Done   5 out of   5 | elapsed:  4.6min finished\n"
          ],
          "name": "stderr"
        },
        {
          "output_type": "stream",
          "text": [
            "[08:16:07] WARNING: ../src/learner.cc:1095: Starting in XGBoost 1.3.0, the default evaluation metric used with the objective 'binary:logistic' was changed from 'error' to 'logloss'. Explicitly set eval_metric if you'd like to restore the old behavior.\n",
            "[08:16:31] WARNING: ../src/learner.cc:1095: Starting in XGBoost 1.3.0, the default evaluation metric used with the objective 'binary:logistic' was changed from 'error' to 'logloss'. Explicitly set eval_metric if you'd like to restore the old behavior.\n",
            "[08:16:40] WARNING: ../src/learner.cc:1095: Starting in XGBoost 1.3.0, the default evaluation metric used with the objective 'binary:logistic' was changed from 'error' to 'logloss'. Explicitly set eval_metric if you'd like to restore the old behavior.\n",
            "[08:16:48] WARNING: ../src/learner.cc:1095: Starting in XGBoost 1.3.0, the default evaluation metric used with the objective 'binary:logistic' was changed from 'error' to 'logloss'. Explicitly set eval_metric if you'd like to restore the old behavior.\n",
            "[08:16:56] WARNING: ../src/learner.cc:1095: Starting in XGBoost 1.3.0, the default evaluation metric used with the objective 'binary:logistic' was changed from 'error' to 'logloss'. Explicitly set eval_metric if you'd like to restore the old behavior.\n",
            "[08:17:04] WARNING: ../src/learner.cc:1095: Starting in XGBoost 1.3.0, the default evaluation metric used with the objective 'binary:logistic' was changed from 'error' to 'logloss'. Explicitly set eval_metric if you'd like to restore the old behavior.\n",
            "best_params:\n",
            " {}\n",
            "[08:17:17] WARNING: ../src/learner.cc:1095: Starting in XGBoost 1.3.0, the default evaluation metric used with the objective 'binary:logistic' was changed from 'error' to 'logloss'. Explicitly set eval_metric if you'd like to restore the old behavior.\n",
            "[08:17:42] WARNING: ../src/learner.cc:1095: Starting in XGBoost 1.3.0, the default evaluation metric used with the objective 'binary:logistic' was changed from 'error' to 'logloss'. Explicitly set eval_metric if you'd like to restore the old behavior.\n",
            "[08:17:50] WARNING: ../src/learner.cc:1095: Starting in XGBoost 1.3.0, the default evaluation metric used with the objective 'binary:logistic' was changed from 'error' to 'logloss'. Explicitly set eval_metric if you'd like to restore the old behavior.\n",
            "[08:17:58] WARNING: ../src/learner.cc:1095: Starting in XGBoost 1.3.0, the default evaluation metric used with the objective 'binary:logistic' was changed from 'error' to 'logloss'. Explicitly set eval_metric if you'd like to restore the old behavior.\n",
            "[08:18:06] WARNING: ../src/learner.cc:1095: Starting in XGBoost 1.3.0, the default evaluation metric used with the objective 'binary:logistic' was changed from 'error' to 'logloss'. Explicitly set eval_metric if you'd like to restore the old behavior.\n",
            "[08:18:15] WARNING: ../src/learner.cc:1095: Starting in XGBoost 1.3.0, the default evaluation metric used with the objective 'binary:logistic' was changed from 'error' to 'logloss'. Explicitly set eval_metric if you'd like to restore the old behavior.\n",
            "precison:  0.36792452830188677\n",
            "recall:  0.019948849104859334\n",
            "f1:  0.037845705967976706\n",
            "accuracy:  0.9193935205885939\n"
          ],
          "name": "stdout"
        },
        {
          "output_type": "display_data",
          "data": {
            "image/png": "[encoded data removed]",
            "text/plain": [
              "<Figure size 432x288 with 2 Axes>"
            ]
          },
          "metadata": {
            "tags": [],
            "needs_background": "light"
          }
        },
        {
          "output_type": "stream",
          "text": [
            "totally cost 417.09243392944336\n"
          ],
          "name": "stdout"
        }
      ]
    },
    {
      "cell_type": "code",
      "metadata": {
        "colab": {
          "base_uri": "https://localhost:8080/",
          "height": 715
        },
        "id": "VddxERkvnfjI",
        "outputId": "06b6cceb-3b7a-4de5-82b4-6e12387aff96"
      },
      "source": [
        "estimators=[('targetencode',target_encoder.TargetEncoder()),('tl',TomekLinks()),('randomforest',RandomForestClassifier())]\n",
        "init_param=dict(targetencode__cols=newtrain.select_dtypes(include='object').columns,randomforest__max_depth= 12, randomforest__n_estimators= 5)\n",
        "P_rf_tl=Pipeline(estimators)\n",
        "P_rf_tl.set_params(**init_param)\n",
        "\n",
        "estimators=[('targetencode',target_encoder.TargetEncoder()),('tl',TomekLinks()),('xgb',XGBClassifier())]\n",
        "init_param=dict(targetencode__cols=newtrain.select_dtypes(include='object').columns,xgb__tree_method='gpu_hist',xgb__max_depth= 5, xgb__n_estimators= 500)\n",
        "P_xgb_tl=Pipeline(estimators)\n",
        "P_xgb_tl.set_params(**init_param)\n",
        "\n",
        "init_param={\n",
        "    'final_estimator__C': 0.5\n",
        "}\n",
        "\n",
        "estimators = [\n",
        "        ('rf', P_rf_tl),\n",
        "        ('xgb', P_xgb_tl)\n",
        " ]\n",
        "final_estimator=LogisticRegression()\n",
        "\n",
        "param_grid={\n",
        "}\n",
        "\n",
        "import time\n",
        "time_start=time.time()\n",
        "\n",
        "initP_stack,P_stack=makepipe_getres(\n",
        "    estimators,\n",
        "    init_param,\n",
        "    param_grid,\n",
        "    type_='Stacking',\n",
        "    verbose=3\n",
        ")\n",
        "\n",
        "time_end=time.time()\n",
        "print('totally cost',time_end-time_start)"
      ],
      "execution_count": null,
      "outputs": [
        {
          "output_type": "stream",
          "text": [
            "Fitting 5 folds for each of 1 candidates, totalling 5 fits\n"
          ],
          "name": "stdout"
        },
        {
          "output_type": "stream",
          "text": [
            "[Parallel(n_jobs=5)]: Using backend LokyBackend with 5 concurrent workers.\n",
            "[Parallel(n_jobs=5)]: Done   2 out of   5 | elapsed: 15.5min remaining: 23.2min\n",
            "[Parallel(n_jobs=5)]: Done   5 out of   5 | elapsed: 16.5min finished\n"
          ],
          "name": "stderr"
        },
        {
          "output_type": "stream",
          "text": [
            "[08:42:13] WARNING: ../src/learner.cc:1095: Starting in XGBoost 1.3.0, the default evaluation metric used with the objective 'binary:logistic' was changed from 'error' to 'logloss'. Explicitly set eval_metric if you'd like to restore the old behavior.\n",
            "[08:44:40] WARNING: ../src/learner.cc:1095: Starting in XGBoost 1.3.0, the default evaluation metric used with the objective 'binary:logistic' was changed from 'error' to 'logloss'. Explicitly set eval_metric if you'd like to restore the old behavior.\n",
            "[08:45:07] WARNING: ../src/learner.cc:1095: Starting in XGBoost 1.3.0, the default evaluation metric used with the objective 'binary:logistic' was changed from 'error' to 'logloss'. Explicitly set eval_metric if you'd like to restore the old behavior.\n",
            "[08:45:34] WARNING: ../src/learner.cc:1095: Starting in XGBoost 1.3.0, the default evaluation metric used with the objective 'binary:logistic' was changed from 'error' to 'logloss'. Explicitly set eval_metric if you'd like to restore the old behavior.\n",
            "[08:46:08] WARNING: ../src/learner.cc:1095: Starting in XGBoost 1.3.0, the default evaluation metric used with the objective 'binary:logistic' was changed from 'error' to 'logloss'. Explicitly set eval_metric if you'd like to restore the old behavior.\n",
            "[08:46:35] WARNING: ../src/learner.cc:1095: Starting in XGBoost 1.3.0, the default evaluation metric used with the objective 'binary:logistic' was changed from 'error' to 'logloss'. Explicitly set eval_metric if you'd like to restore the old behavior.\n",
            "cv_results:\n",
            " {'mean_fit_time': array([924.58582163]), 'std_fit_time': array([44.02594208]), 'mean_score_time': array([0.51327667]), 'std_score_time': array([0.17542272]), 'params': [{}], 'split0_test_score': array([0.05676443]), 'split1_test_score': array([0.04775549]), 'split2_test_score': array([0.04712535]), 'split3_test_score': array([0.06156716]), 'split4_test_score': array([0.04393505]), 'mean_test_score': array([0.0514295]), 'std_test_score': array([0.00662457]), 'rank_test_score': array([1], dtype=int32)}\n",
            "best_params:\n",
            " {}\n",
            "[08:47:40] WARNING: ../src/learner.cc:1095: Starting in XGBoost 1.3.0, the default evaluation metric used with the objective 'binary:logistic' was changed from 'error' to 'logloss'. Explicitly set eval_metric if you'd like to restore the old behavior.\n",
            "[08:50:06] WARNING: ../src/learner.cc:1095: Starting in XGBoost 1.3.0, the default evaluation metric used with the objective 'binary:logistic' was changed from 'error' to 'logloss'. Explicitly set eval_metric if you'd like to restore the old behavior.\n",
            "[08:50:33] WARNING: ../src/learner.cc:1095: Starting in XGBoost 1.3.0, the default evaluation metric used with the objective 'binary:logistic' was changed from 'error' to 'logloss'. Explicitly set eval_metric if you'd like to restore the old behavior.\n",
            "[08:51:00] WARNING: ../src/learner.cc:1095: Starting in XGBoost 1.3.0, the default evaluation metric used with the objective 'binary:logistic' was changed from 'error' to 'logloss'. Explicitly set eval_metric if you'd like to restore the old behavior.\n",
            "[08:51:34] WARNING: ../src/learner.cc:1095: Starting in XGBoost 1.3.0, the default evaluation metric used with the objective 'binary:logistic' was changed from 'error' to 'logloss'. Explicitly set eval_metric if you'd like to restore the old behavior.\n",
            "[08:52:00] WARNING: ../src/learner.cc:1095: Starting in XGBoost 1.3.0, the default evaluation metric used with the objective 'binary:logistic' was changed from 'error' to 'logloss'. Explicitly set eval_metric if you'd like to restore the old behavior.\n",
            "precison:  0.38926174496644295\n",
            "recall:  0.029667519181585677\n",
            "f1:  0.055133079847908745\n",
            "accuracy:  0.9191902768180156\n"
          ],
          "name": "stdout"
        },
        {
          "output_type": "display_data",
          "data": {
            "image/png": "[encoded data removed]",
            "text/plain": [
              "<Figure size 432x288 with 2 Axes>"
            ]
          },
          "metadata": {
            "tags": [],
            "needs_background": "light"
          }
        },
        {
          "output_type": "stream",
          "text": [
            "totally cost 1644.4758560657501\n"
          ],
          "name": "stdout"
        }
      ]
    },
    {
      "cell_type": "code",
      "metadata": {
        "colab": {
          "base_uri": "https://localhost:8080/",
          "height": 711
        },
        "id": "JLTsbQt1u8XL",
        "outputId": "0a182af2-3436-4c3e-cc88-3577bd4320e1"
      },
      "source": [
        "estimators=[('targetencode',target_encoder.TargetEncoder()),('se',SMOTEENN(random_state=SEED)),('randomforest',RandomForestClassifier())]\n",
        "init_param=dict(targetencode__cols=newtrain.select_dtypes(include='object').columns,randomforest__max_depth= 12, randomforest__n_estimators= 5)\n",
        "P_rf_se=Pipeline(estimators)\n",
        "P_rf_se.set_params(**init_param)\n",
        "\n",
        "estimators=[('targetencode',target_encoder.TargetEncoder()),('se',SMOTEENN(random_state=SEED)),('xgb',XGBClassifier())]\n",
        "init_param=dict(targetencode__cols=newtrain.select_dtypes(include='object').columns,xgb__tree_method='gpu_hist',xgb__max_depth= 5, xgb__n_estimators= 500)\n",
        "P_xgb_se=Pipeline(estimators)\n",
        "P_xgb_se.set_params(**init_param)\n",
        "\n",
        "init_param={\n",
        "    'final_estimator__C': 0.5\n",
        "}\n",
        "\n",
        "estimators = [\n",
        "        ('rf', P_rf_se),\n",
        "        ('xgb', P_xgb_se)\n",
        " ]\n",
        "final_estimator=LogisticRegression()\n",
        "\n",
        "param_grid={\n",
        "}\n",
        "\n",
        "import time\n",
        "time_start=time.time()\n",
        "\n",
        "initP_stack,P_stack=makepipe_getres(\n",
        "    estimators,\n",
        "    init_param,\n",
        "    param_grid,\n",
        "    type_='Stacking',\n",
        "    verbose=3\n",
        ")\n",
        "\n",
        "time_end=time.time()\n",
        "print('totally cost',time_end-time_start)"
      ],
      "execution_count": null,
      "outputs": [
        {
          "output_type": "stream",
          "text": [
            "Fitting 5 folds for each of 1 candidates, totalling 5 fits\n"
          ],
          "name": "stdout"
        },
        {
          "output_type": "stream",
          "text": [
            "[Parallel(n_jobs=5)]: Using backend LokyBackend with 5 concurrent workers.\n",
            "[Parallel(n_jobs=5)]: Done   2 out of   5 | elapsed: 33.8min remaining: 50.7min\n",
            "[Parallel(n_jobs=5)]: Done   5 out of   5 | elapsed: 36.6min finished\n"
          ],
          "name": "stderr"
        },
        {
          "output_type": "stream",
          "text": [
            "[09:35:26] WARNING: ../src/learner.cc:1095: Starting in XGBoost 1.3.0, the default evaluation metric used with the objective 'binary:logistic' was changed from 'error' to 'logloss'. Explicitly set eval_metric if you'd like to restore the old behavior.\n",
            "[09:40:46] WARNING: ../src/learner.cc:1095: Starting in XGBoost 1.3.0, the default evaluation metric used with the objective 'binary:logistic' was changed from 'error' to 'logloss'. Explicitly set eval_metric if you'd like to restore the old behavior.\n",
            "[09:41:41] WARNING: ../src/learner.cc:1095: Starting in XGBoost 1.3.0, the default evaluation metric used with the objective 'binary:logistic' was changed from 'error' to 'logloss'. Explicitly set eval_metric if you'd like to restore the old behavior.\n",
            "[09:42:39] WARNING: ../src/learner.cc:1095: Starting in XGBoost 1.3.0, the default evaluation metric used with the objective 'binary:logistic' was changed from 'error' to 'logloss'. Explicitly set eval_metric if you'd like to restore the old behavior.\n",
            "[09:43:47] WARNING: ../src/learner.cc:1095: Starting in XGBoost 1.3.0, the default evaluation metric used with the objective 'binary:logistic' was changed from 'error' to 'logloss'. Explicitly set eval_metric if you'd like to restore the old behavior.\n",
            "[09:44:43] WARNING: ../src/learner.cc:1095: Starting in XGBoost 1.3.0, the default evaluation metric used with the objective 'binary:logistic' was changed from 'error' to 'logloss'. Explicitly set eval_metric if you'd like to restore the old behavior.\n",
            "cv_results:\n",
            " {'mean_fit_time': array([2066.55129247]), 'std_fit_time': array([100.02714966]), 'mean_score_time': array([0.51964202]), 'std_score_time': array([0.19711673]), 'params': [{}], 'split0_test_score': array([0.04243009]), 'split1_test_score': array([0.03137255]), 'split2_test_score': array([0.01964637]), 'split3_test_score': array([0.02764067]), 'split4_test_score': array([0.01980198]), 'mean_test_score': array([0.02817833]), 'std_test_score': array([0.00844467]), 'rank_test_score': array([1], dtype=int32)}\n",
            "best_params:\n",
            " {}\n",
            "[09:47:17] WARNING: ../src/learner.cc:1095: Starting in XGBoost 1.3.0, the default evaluation metric used with the objective 'binary:logistic' was changed from 'error' to 'logloss'. Explicitly set eval_metric if you'd like to restore the old behavior.\n",
            "[09:52:39] WARNING: ../src/learner.cc:1095: Starting in XGBoost 1.3.0, the default evaluation metric used with the objective 'binary:logistic' was changed from 'error' to 'logloss'. Explicitly set eval_metric if you'd like to restore the old behavior.\n",
            "[09:53:35] WARNING: ../src/learner.cc:1095: Starting in XGBoost 1.3.0, the default evaluation metric used with the objective 'binary:logistic' was changed from 'error' to 'logloss'. Explicitly set eval_metric if you'd like to restore the old behavior.\n",
            "[09:54:34] WARNING: ../src/learner.cc:1095: Starting in XGBoost 1.3.0, the default evaluation metric used with the objective 'binary:logistic' was changed from 'error' to 'logloss'. Explicitly set eval_metric if you'd like to restore the old behavior.\n",
            "[09:55:41] WARNING: ../src/learner.cc:1095: Starting in XGBoost 1.3.0, the default evaluation metric used with the objective 'binary:logistic' was changed from 'error' to 'logloss'. Explicitly set eval_metric if you'd like to restore the old behavior.\n",
            "[09:56:36] WARNING: ../src/learner.cc:1095: Starting in XGBoost 1.3.0, the default evaluation metric used with the objective 'binary:logistic' was changed from 'error' to 'logloss'. Explicitly set eval_metric if you'd like to restore the old behavior.\n",
            "precison:  0.41818181818181815\n",
            "recall:  0.011764705882352941\n",
            "f1:  0.022885572139303482\n",
            "accuracy:  0.920165846916792\n"
          ],
          "name": "stdout"
        },
        {
          "output_type": "display_data",
          "data": {
            "image/png": "[encoded data removed]",
            "text/plain": [
              "<Figure size 432x288 with 2 Axes>"
            ]
          },
          "metadata": {
            "tags": [],
            "needs_background": "light"
          }
        },
        {
          "output_type": "stream",
          "text": [
            "totally cost 3627.892143011093\n"
          ],
          "name": "stdout"
        }
      ]
    },
    {
      "cell_type": "code",
      "metadata": {
        "colab": {
          "base_uri": "https://localhost:8080/",
          "height": 1000
        },
        "id": "L7u4tAmcGt5o",
        "outputId": "bcb07e8e-a31f-4d7a-ff11-c5264fd1cb2b"
      },
      "source": [
        "# \n",
        "## xgb\n",
        "\n",
        "import time\n",
        "time_start=time.time()\n",
        "\n",
        "estimators=[('targetencode',target_encoder.TargetEncoder()),('sm',SMOTE(random_state=SEED)),('xgb',XGBClassifier())]\n",
        "init_param=dict(targetencode__cols=newtrain.select_dtypes(include='object').columns,xgb__n_jobs=4)\n",
        "param_grid={\n",
        "    'xgb__n_estimators':[500],\n",
        "    'xgb__max_depth':[5]\n",
        "}\n",
        "initP_xgb_smote,P_xgb_smote=makepipe_getres(\n",
        "    estimators,\n",
        "    init_param,\n",
        "    param_grid,\n",
        "    verbose=2,\n",
        "    n_jobs=4\n",
        ")\n",
        "\n",
        "time_end=time.time()\n",
        "print('totally cost',time_end-time_start)"
      ],
      "execution_count": null,
      "outputs": [
        {
          "output_type": "stream",
          "text": [
            "Fitting 5 folds for each of 1 candidates, totalling 5 fits\n"
          ],
          "name": "stdout"
        },
        {
          "output_type": "stream",
          "text": [
            "[Parallel(n_jobs=5)]: Using backend LokyBackend with 5 concurrent workers.\n",
            "[Parallel(n_jobs=5)]: Done   2 out of   5 | elapsed:   34.6s remaining:   51.8s\n"
          ],
          "name": "stderr"
        },
        {
          "output_type": "error",
          "ename": "ValueError",
          "evalue": "ignored",
          "traceback": [
            "\u001b[0;31m---------------------------------------------------------------------------\u001b[0m",
            "\u001b[0;31m_RemoteTraceback\u001b[0m                          Traceback (most recent call last)",
            "\u001b[0;31m_RemoteTraceback\u001b[0m: \n\"\"\"\nTraceback (most recent call last):\n  File \"/usr/local/lib/python3.7/dist-packages/joblib/externals/loky/process_executor.py\", line 431, in _process_worker\n    r = call_item()\n  File \"/usr/local/lib/python3.7/dist-packages/joblib/externals/loky/process_executor.py\", line 285, in __call__\n    return self.fn(*self.args, **self.kwargs)\n  File \"/usr/local/lib/python3.7/dist-packages/joblib/_parallel_backends.py\", line 595, in __call__\n    return self.func(*args, **kwargs)\n  File \"/usr/local/lib/python3.7/dist-packages/joblib/parallel.py\", line 263, in __call__\n    for func, args, kwargs in self.items]\n  File \"/usr/local/lib/python3.7/dist-packages/joblib/parallel.py\", line 263, in <listcomp>\n    for func, args, kwargs in self.items]\n  File \"/usr/local/lib/python3.7/dist-packages/sklearn/model_selection/_validation.py\", line 544, in _fit_and_score\n    test_scores = _score(estimator, X_test, y_test, scorer)\n  File \"/usr/local/lib/python3.7/dist-packages/sklearn/model_selection/_validation.py\", line 591, in _score\n    scores = scorer(estimator, X_test, y_test)\n  File \"/usr/local/lib/python3.7/dist-packages/sklearn/metrics/_scorer.py\", line 87, in __call__\n    *args, **kwargs)\n  File \"/usr/local/lib/python3.7/dist-packages/sklearn/metrics/_scorer.py\", line 205, in _score\n    y_pred = method_caller(estimator, \"predict\", X)\n  File \"/usr/local/lib/python3.7/dist-packages/sklearn/metrics/_scorer.py\", line 52, in _cached_call\n    return getattr(estimator, method)(*args, **kwargs)\n  File \"/usr/local/lib/python3.7/dist-packages/sklearn/utils/metaestimators.py\", line 116, in <lambda>\n    out = lambda *args, **kwargs: self.fn(obj, *args, **kwargs)\n  File \"/usr/local/lib/python3.7/dist-packages/imblearn/pipeline.py\", line 350, in predict\n    return self.steps[-1][-1].predict(Xt, **predict_params)\n  File \"/usr/local/lib/python3.7/dist-packages/xgboost/sklearn.py\", line 791, in predict\n    validate_features=validate_features)\n  File \"/usr/local/lib/python3.7/dist-packages/xgboost/core.py\", line 1284, in predict\n    self._validate_features(data)\n  File \"/usr/local/lib/python3.7/dist-packages/xgboost/core.py\", line 1690, in _validate_features\n    data.feature_names))\nValueError: feature_names mismatch: ['f0', 'f1', 'f2', 'f3', 'f4', 'f5', 'f6', 'f7', 'f8', 'f9', 'f10', 'f11', 'f12', 'f13', 'f14', 'f15', 'f16', 'f17', 'f18', 'f19', 'f20', 'f21', 'f22', 'f23', 'f24', 'f25', 'f26', 'f27', 'f28', 'f29', 'f30', 'f31', 'f32', 'f33', 'f34', 'f35', 'f36', 'f37', 'f38', 'f39', 'f40', 'f41', 'f42', 'f43', 'f44', 'f45', 'f46', 'f47', 'f48', 'f49', 'f50', 'f51', 'f52', 'f53', 'f54', 'f55', 'f56', 'f57', 'f58', 'f59', 'f60', 'f61', 'f62', 'f63', 'f64', 'f65', 'f66', 'f67', 'f68', 'f69', 'f70', 'f71', 'f72', 'f73', 'f74', 'f75', 'f76', 'f77', 'f78', 'f79', 'f80', 'f81', 'f82', 'f83', 'f84', 'f85', 'f86', 'f87', 'f88', 'f89', 'f90', 'f91', 'f92', 'f93', 'f94', 'f95', 'f96', 'f97', 'f98', 'f99', 'f100', 'f101', 'f102', 'f103', 'f104', 'f105', 'f106', 'f107', 'f108', 'f109', 'f110', 'f111', 'f112', 'f113', 'f114', 'f115', 'f116', 'f117', 'f118', 'f119', 'f120', 'f121', 'f122', 'f123', 'f124', 'f125', 'f126', 'f127', 'f128', 'f129', 'f130', 'f131', 'f132', 'f133', 'f134', 'f135', 'f136', 'f137', 'f138', 'f139', 'f140', 'f141', 'f142', 'f143', 'f144', 'f145', 'f146', 'f147', 'f148', 'f149', 'f150', 'f151', 'f152', 'f153', 'f154', 'f155', 'f156', 'f157', 'f158', 'f159', 'f160', 'f161'] ['NAME_CONTRACT_TYPE', 'CODE_GENDER', 'FLAG_OWN_CAR', 'FLAG_OWN_REALTY', 'CNT_CHILDREN', 'AMT_INCOME_TOTAL', 'AMT_CREDIT', 'AMT_ANNUITY', 'NAME_TYPE_SUITE', 'NAME_INCOME_TYPE', 'NAME_EDUCATION_TYPE', 'NAME_FAMILY_STATUS', 'NAME_HOUSING_TYPE', 'REGION_POPULATION_RELATIVE', '...\nexpected f134, f8, f75, f76, f35, f101, f61, f67, f95, f127, f161, f48, f125, f85, f104, f9, f19, f100, f2, f119, f116, f126, f132, f115, f34, f89, f32, f151, f99, f62, f150, f138, f71, f63, f149, f114, f120, f107, f160, f44, f79, f136, f86, f145, f97, f17, f15, f3, f74, f147, f5, f46, f141, f113, f27, f159, f156, f133, f64, f154, f108, f124, f22, f96, f106, f148, f20, f144, f23, f12, f26, f110, f37, f121, f72, f47, f66, f40, f65, f90, f21, f59, f153, f38, f140, f91, f112, f102, f25, f152, f0, f7, f53, f52, f80, f69, f68, f93, f123, f146, f78, f13, f16, f29, f82, f155, f83, f51, f43, f73, f28, f10, f36, f98, f60, f109, f81, f122, f49, f14, f56, f4, f58, f157, f70, f42, f135, f6, f142, f158, f18, f137, f94, f105, f128, f33, f130, f131, f1, f55, f11, f103, f54, f117, f77, f139, f143, f30, f31, f24, f39, f57, f118, f129, f41, f45, f84, f87, f111, f92, f50, f88 in input data\ntraining data did not have the following fields: client_bureau_balance_STATUS_3_count_sum, bureau_CREDIT_ACTIVE_Bad debt_count, bureau_CREDIT_DAY_OVERDUE_mean, REGION_POPULATION_RELATIVE, CODE_GENDER, bureau_DAYS_CREDIT_max, NAME_HOUSING_TYPE, bureau_CREDIT_TYPE_Car loan_count, bureau_CREDIT_TYPE_Loan for the purchase of equipment_count_norm, bureau_CREDIT_TYPE_Another type of loan_count, bureau_AMT_CREDIT_SUM_LIMIT_mean, LIVE_REGION_NOT_WORK_REGION, bureau_AMT_CREDIT_SUM_OVERDUE_mean, bureau_AMT_CREDIT_SUM_DEBT_mean, NAME_EDUCATION_TYPE, bureau_AMT_CREDIT_SUM_sum, client_bureau_balance_STATUS_2_count_sum, AMT_REQ_CREDIT_BUREAU_HOUR, CNT_CHILDREN, bureau_CREDIT_TYPE_Loan for purchase of shares (margin lending)_count, FLAG_PHONE, FLAG_DOCUMENT_13, bureau_CREDIT_ACTIVE_Closed_count_norm, FLAG_CONT_MOBILE, DAYS_LAST_PHONE_CHANGE, bureau_AMT_CREDIT_MAX_OVERDUE_count, bureau_AMT_CREDIT_SUM_LIMIT_max, bureau_CREDIT_TYPE_Microloan_count, bureau_DAYS_CREDIT_ENDDATE_max, bureau_CREDIT_TYPE_Loan for working capital replenishment_count, bureau_AMT_CREDIT_SUM_DEBT_min, REG_REGION_NOT_LIVE_REGION, client_bureau_balance_STATUS_0_count_norm_sum, bureau_DAYS_CREDIT_mean, bureau_CREDIT_TYPE_Unknown type of loan_count_norm, ORGANIZATION_TYPE, bureau_CREDIT_TYPE_Loan for purchase of shares (margin lending)_count_norm, bureau_AMT_CREDIT_SUM_min, EXT_SOURCE_3, bureau_CREDIT_TYPE_Cash loan (non-earmarked)_count_norm, client_bureau_balance_STATUS_4_count_sum, WEEKDAY_APPR_PROCESS_START, bureau_D...\n\"\"\"",
            "\nThe above exception was the direct cause of the following exception:\n",
            "\u001b[0;31mValueError\u001b[0m                                Traceback (most recent call last)",
            "\u001b[0;32m<ipython-input-21-5b6ec17dc434>\u001b[0m in \u001b[0;36m<module>\u001b[0;34m()\u001b[0m\n\u001b[1;32m     15\u001b[0m     \u001b[0minit_param\u001b[0m\u001b[0;34m,\u001b[0m\u001b[0;34m\u001b[0m\u001b[0;34m\u001b[0m\u001b[0m\n\u001b[1;32m     16\u001b[0m     \u001b[0mparam_grid\u001b[0m\u001b[0;34m,\u001b[0m\u001b[0;34m\u001b[0m\u001b[0;34m\u001b[0m\u001b[0m\n\u001b[0;32m---> 17\u001b[0;31m     \u001b[0mverbose\u001b[0m\u001b[0;34m=\u001b[0m\u001b[0;36m2\u001b[0m\u001b[0;34m\u001b[0m\u001b[0;34m\u001b[0m\u001b[0m\n\u001b[0m\u001b[1;32m     18\u001b[0m )\n\u001b[1;32m     19\u001b[0m \u001b[0;34m\u001b[0m\u001b[0m\n",
            "\u001b[0;32m<ipython-input-18-67cc666d9d0f>\u001b[0m in \u001b[0;36mmakepipe_getres\u001b[0;34m(eastimators, set_param, cv_param, newtrain, newtest, verbose, n_jobs, type_)\u001b[0m\n\u001b[1;32m     46\u001b[0m     \u001b[0minitP\u001b[0m\u001b[0;34m.\u001b[0m\u001b[0mset_params\u001b[0m\u001b[0;34m(\u001b[0m\u001b[0;34m**\u001b[0m\u001b[0mset_param\u001b[0m\u001b[0;34m)\u001b[0m\u001b[0;34m\u001b[0m\u001b[0;34m\u001b[0m\u001b[0m\n\u001b[1;32m     47\u001b[0m     \u001b[0mp_gs\u001b[0m\u001b[0;34m=\u001b[0m\u001b[0mGridSearchCV\u001b[0m\u001b[0;34m(\u001b[0m\u001b[0minitP\u001b[0m\u001b[0;34m,\u001b[0m\u001b[0mparam_grid\u001b[0m\u001b[0;34m=\u001b[0m\u001b[0mcv_param\u001b[0m\u001b[0;34m,\u001b[0m\u001b[0mcv\u001b[0m\u001b[0;34m=\u001b[0m\u001b[0;36m5\u001b[0m\u001b[0;34m,\u001b[0m\u001b[0mverbose\u001b[0m\u001b[0;34m=\u001b[0m\u001b[0;36m3\u001b[0m\u001b[0;34m,\u001b[0m\u001b[0mn_jobs\u001b[0m\u001b[0;34m=\u001b[0m\u001b[0mn_jobs\u001b[0m\u001b[0;34m,\u001b[0m\u001b[0mscoring\u001b[0m\u001b[0;34m=\u001b[0m\u001b[0;34m'f1'\u001b[0m\u001b[0;34m)\u001b[0m\u001b[0;34m\u001b[0m\u001b[0;34m\u001b[0m\u001b[0m\n\u001b[0;32m---> 48\u001b[0;31m     \u001b[0mp_gs\u001b[0m\u001b[0;34m.\u001b[0m\u001b[0mfit\u001b[0m\u001b[0;34m(\u001b[0m\u001b[0mnewtrain\u001b[0m\u001b[0;34m.\u001b[0m\u001b[0mdrop\u001b[0m\u001b[0;34m(\u001b[0m\u001b[0mcolumns\u001b[0m\u001b[0;34m=\u001b[0m\u001b[0;34m[\u001b[0m\u001b[0;34m'TARGET'\u001b[0m\u001b[0;34m,\u001b[0m\u001b[0;34m'SK_ID_CURR'\u001b[0m\u001b[0;34m]\u001b[0m\u001b[0;34m)\u001b[0m\u001b[0;34m,\u001b[0m\u001b[0mnewtrain\u001b[0m\u001b[0;34m[\u001b[0m\u001b[0;34m'TARGET'\u001b[0m\u001b[0;34m]\u001b[0m\u001b[0;34m)\u001b[0m\u001b[0;34m\u001b[0m\u001b[0;34m\u001b[0m\u001b[0m\n\u001b[0m\u001b[1;32m     49\u001b[0m     \u001b[0;32mif\u001b[0m \u001b[0mverbose\u001b[0m\u001b[0;34m>=\u001b[0m\u001b[0;36m3\u001b[0m\u001b[0;34m:\u001b[0m\u001b[0;34m\u001b[0m\u001b[0;34m\u001b[0m\u001b[0m\n\u001b[1;32m     50\u001b[0m         \u001b[0mprint\u001b[0m\u001b[0;34m(\u001b[0m\u001b[0;34m'cv_results:\\n'\u001b[0m\u001b[0;34m,\u001b[0m\u001b[0mp_gs\u001b[0m\u001b[0;34m.\u001b[0m\u001b[0mcv_results_\u001b[0m\u001b[0;34m)\u001b[0m\u001b[0;34m\u001b[0m\u001b[0;34m\u001b[0m\u001b[0m\n",
            "\u001b[0;32m/usr/local/lib/python3.7/dist-packages/sklearn/model_selection/_search.py\u001b[0m in \u001b[0;36mfit\u001b[0;34m(self, X, y, groups, **fit_params)\u001b[0m\n\u001b[1;32m    708\u001b[0m                 \u001b[0;32mreturn\u001b[0m \u001b[0mresults\u001b[0m\u001b[0;34m\u001b[0m\u001b[0;34m\u001b[0m\u001b[0m\n\u001b[1;32m    709\u001b[0m \u001b[0;34m\u001b[0m\u001b[0m\n\u001b[0;32m--> 710\u001b[0;31m             \u001b[0mself\u001b[0m\u001b[0;34m.\u001b[0m\u001b[0m_run_search\u001b[0m\u001b[0;34m(\u001b[0m\u001b[0mevaluate_candidates\u001b[0m\u001b[0;34m)\u001b[0m\u001b[0;34m\u001b[0m\u001b[0;34m\u001b[0m\u001b[0m\n\u001b[0m\u001b[1;32m    711\u001b[0m \u001b[0;34m\u001b[0m\u001b[0m\n\u001b[1;32m    712\u001b[0m         \u001b[0;31m# For multi-metric evaluation, store the best_index_, best_params_ and\u001b[0m\u001b[0;34m\u001b[0m\u001b[0;34m\u001b[0m\u001b[0;34m\u001b[0m\u001b[0m\n",
            "\u001b[0;32m/usr/local/lib/python3.7/dist-packages/sklearn/model_selection/_search.py\u001b[0m in \u001b[0;36m_run_search\u001b[0;34m(self, evaluate_candidates)\u001b[0m\n\u001b[1;32m   1149\u001b[0m     \u001b[0;32mdef\u001b[0m \u001b[0m_run_search\u001b[0m\u001b[0;34m(\u001b[0m\u001b[0mself\u001b[0m\u001b[0;34m,\u001b[0m \u001b[0mevaluate_candidates\u001b[0m\u001b[0;34m)\u001b[0m\u001b[0;34m:\u001b[0m\u001b[0;34m\u001b[0m\u001b[0;34m\u001b[0m\u001b[0m\n\u001b[1;32m   1150\u001b[0m         \u001b[0;34m\"\"\"Search all candidates in param_grid\"\"\"\u001b[0m\u001b[0;34m\u001b[0m\u001b[0;34m\u001b[0m\u001b[0m\n\u001b[0;32m-> 1151\u001b[0;31m         \u001b[0mevaluate_candidates\u001b[0m\u001b[0;34m(\u001b[0m\u001b[0mParameterGrid\u001b[0m\u001b[0;34m(\u001b[0m\u001b[0mself\u001b[0m\u001b[0;34m.\u001b[0m\u001b[0mparam_grid\u001b[0m\u001b[0;34m)\u001b[0m\u001b[0;34m)\u001b[0m\u001b[0;34m\u001b[0m\u001b[0;34m\u001b[0m\u001b[0m\n\u001b[0m\u001b[1;32m   1152\u001b[0m \u001b[0;34m\u001b[0m\u001b[0m\n\u001b[1;32m   1153\u001b[0m \u001b[0;34m\u001b[0m\u001b[0m\n",
            "\u001b[0;32m/usr/local/lib/python3.7/dist-packages/sklearn/model_selection/_search.py\u001b[0m in \u001b[0;36mevaluate_candidates\u001b[0;34m(candidate_params)\u001b[0m\n\u001b[1;32m    687\u001b[0m                                \u001b[0;32mfor\u001b[0m \u001b[0mparameters\u001b[0m\u001b[0;34m,\u001b[0m \u001b[0;34m(\u001b[0m\u001b[0mtrain\u001b[0m\u001b[0;34m,\u001b[0m \u001b[0mtest\u001b[0m\u001b[0;34m)\u001b[0m\u001b[0;34m\u001b[0m\u001b[0;34m\u001b[0m\u001b[0m\n\u001b[1;32m    688\u001b[0m                                in product(candidate_params,\n\u001b[0;32m--> 689\u001b[0;31m                                           cv.split(X, y, groups)))\n\u001b[0m\u001b[1;32m    690\u001b[0m \u001b[0;34m\u001b[0m\u001b[0m\n\u001b[1;32m    691\u001b[0m                 \u001b[0;32mif\u001b[0m \u001b[0mlen\u001b[0m\u001b[0;34m(\u001b[0m\u001b[0mout\u001b[0m\u001b[0;34m)\u001b[0m \u001b[0;34m<\u001b[0m \u001b[0;36m1\u001b[0m\u001b[0;34m:\u001b[0m\u001b[0;34m\u001b[0m\u001b[0;34m\u001b[0m\u001b[0m\n",
            "\u001b[0;32m/usr/local/lib/python3.7/dist-packages/joblib/parallel.py\u001b[0m in \u001b[0;36m__call__\u001b[0;34m(self, iterable)\u001b[0m\n\u001b[1;32m   1052\u001b[0m \u001b[0;34m\u001b[0m\u001b[0m\n\u001b[1;32m   1053\u001b[0m             \u001b[0;32mwith\u001b[0m \u001b[0mself\u001b[0m\u001b[0;34m.\u001b[0m\u001b[0m_backend\u001b[0m\u001b[0;34m.\u001b[0m\u001b[0mretrieval_context\u001b[0m\u001b[0;34m(\u001b[0m\u001b[0;34m)\u001b[0m\u001b[0;34m:\u001b[0m\u001b[0;34m\u001b[0m\u001b[0;34m\u001b[0m\u001b[0m\n\u001b[0;32m-> 1054\u001b[0;31m                 \u001b[0mself\u001b[0m\u001b[0;34m.\u001b[0m\u001b[0mretrieve\u001b[0m\u001b[0;34m(\u001b[0m\u001b[0;34m)\u001b[0m\u001b[0;34m\u001b[0m\u001b[0;34m\u001b[0m\u001b[0m\n\u001b[0m\u001b[1;32m   1055\u001b[0m             \u001b[0;31m# Make sure that we get a last message telling us we are done\u001b[0m\u001b[0;34m\u001b[0m\u001b[0;34m\u001b[0m\u001b[0;34m\u001b[0m\u001b[0m\n\u001b[1;32m   1056\u001b[0m             \u001b[0melapsed_time\u001b[0m \u001b[0;34m=\u001b[0m \u001b[0mtime\u001b[0m\u001b[0;34m.\u001b[0m\u001b[0mtime\u001b[0m\u001b[0;34m(\u001b[0m\u001b[0;34m)\u001b[0m \u001b[0;34m-\u001b[0m \u001b[0mself\u001b[0m\u001b[0;34m.\u001b[0m\u001b[0m_start_time\u001b[0m\u001b[0;34m\u001b[0m\u001b[0;34m\u001b[0m\u001b[0m\n",
            "\u001b[0;32m/usr/local/lib/python3.7/dist-packages/joblib/parallel.py\u001b[0m in \u001b[0;36mretrieve\u001b[0;34m(self)\u001b[0m\n\u001b[1;32m    931\u001b[0m             \u001b[0;32mtry\u001b[0m\u001b[0;34m:\u001b[0m\u001b[0;34m\u001b[0m\u001b[0;34m\u001b[0m\u001b[0m\n\u001b[1;32m    932\u001b[0m                 \u001b[0;32mif\u001b[0m \u001b[0mgetattr\u001b[0m\u001b[0;34m(\u001b[0m\u001b[0mself\u001b[0m\u001b[0;34m.\u001b[0m\u001b[0m_backend\u001b[0m\u001b[0;34m,\u001b[0m \u001b[0;34m'supports_timeout'\u001b[0m\u001b[0;34m,\u001b[0m \u001b[0;32mFalse\u001b[0m\u001b[0;34m)\u001b[0m\u001b[0;34m:\u001b[0m\u001b[0;34m\u001b[0m\u001b[0;34m\u001b[0m\u001b[0m\n\u001b[0;32m--> 933\u001b[0;31m                     \u001b[0mself\u001b[0m\u001b[0;34m.\u001b[0m\u001b[0m_output\u001b[0m\u001b[0;34m.\u001b[0m\u001b[0mextend\u001b[0m\u001b[0;34m(\u001b[0m\u001b[0mjob\u001b[0m\u001b[0;34m.\u001b[0m\u001b[0mget\u001b[0m\u001b[0;34m(\u001b[0m\u001b[0mtimeout\u001b[0m\u001b[0;34m=\u001b[0m\u001b[0mself\u001b[0m\u001b[0;34m.\u001b[0m\u001b[0mtimeout\u001b[0m\u001b[0;34m)\u001b[0m\u001b[0;34m)\u001b[0m\u001b[0;34m\u001b[0m\u001b[0;34m\u001b[0m\u001b[0m\n\u001b[0m\u001b[1;32m    934\u001b[0m                 \u001b[0;32melse\u001b[0m\u001b[0;34m:\u001b[0m\u001b[0;34m\u001b[0m\u001b[0;34m\u001b[0m\u001b[0m\n\u001b[1;32m    935\u001b[0m                     \u001b[0mself\u001b[0m\u001b[0;34m.\u001b[0m\u001b[0m_output\u001b[0m\u001b[0;34m.\u001b[0m\u001b[0mextend\u001b[0m\u001b[0;34m(\u001b[0m\u001b[0mjob\u001b[0m\u001b[0;34m.\u001b[0m\u001b[0mget\u001b[0m\u001b[0;34m(\u001b[0m\u001b[0;34m)\u001b[0m\u001b[0;34m)\u001b[0m\u001b[0;34m\u001b[0m\u001b[0;34m\u001b[0m\u001b[0m\n",
            "\u001b[0;32m/usr/local/lib/python3.7/dist-packages/joblib/_parallel_backends.py\u001b[0m in \u001b[0;36mwrap_future_result\u001b[0;34m(future, timeout)\u001b[0m\n\u001b[1;32m    540\u001b[0m         AsyncResults.get from multiprocessing.\"\"\"\n\u001b[1;32m    541\u001b[0m         \u001b[0;32mtry\u001b[0m\u001b[0;34m:\u001b[0m\u001b[0;34m\u001b[0m\u001b[0;34m\u001b[0m\u001b[0m\n\u001b[0;32m--> 542\u001b[0;31m             \u001b[0;32mreturn\u001b[0m \u001b[0mfuture\u001b[0m\u001b[0;34m.\u001b[0m\u001b[0mresult\u001b[0m\u001b[0;34m(\u001b[0m\u001b[0mtimeout\u001b[0m\u001b[0;34m=\u001b[0m\u001b[0mtimeout\u001b[0m\u001b[0;34m)\u001b[0m\u001b[0;34m\u001b[0m\u001b[0;34m\u001b[0m\u001b[0m\n\u001b[0m\u001b[1;32m    543\u001b[0m         \u001b[0;32mexcept\u001b[0m \u001b[0mCfTimeoutError\u001b[0m \u001b[0;32mas\u001b[0m \u001b[0me\u001b[0m\u001b[0;34m:\u001b[0m\u001b[0;34m\u001b[0m\u001b[0;34m\u001b[0m\u001b[0m\n\u001b[1;32m    544\u001b[0m             \u001b[0;32mraise\u001b[0m \u001b[0mTimeoutError\u001b[0m \u001b[0;32mfrom\u001b[0m \u001b[0me\u001b[0m\u001b[0;34m\u001b[0m\u001b[0;34m\u001b[0m\u001b[0m\n",
            "\u001b[0;32m/usr/lib/python3.7/concurrent/futures/_base.py\u001b[0m in \u001b[0;36mresult\u001b[0;34m(self, timeout)\u001b[0m\n\u001b[1;32m    433\u001b[0m                 \u001b[0;32mraise\u001b[0m \u001b[0mCancelledError\u001b[0m\u001b[0;34m(\u001b[0m\u001b[0;34m)\u001b[0m\u001b[0;34m\u001b[0m\u001b[0;34m\u001b[0m\u001b[0m\n\u001b[1;32m    434\u001b[0m             \u001b[0;32melif\u001b[0m \u001b[0mself\u001b[0m\u001b[0;34m.\u001b[0m\u001b[0m_state\u001b[0m \u001b[0;34m==\u001b[0m \u001b[0mFINISHED\u001b[0m\u001b[0;34m:\u001b[0m\u001b[0;34m\u001b[0m\u001b[0;34m\u001b[0m\u001b[0m\n\u001b[0;32m--> 435\u001b[0;31m                 \u001b[0;32mreturn\u001b[0m \u001b[0mself\u001b[0m\u001b[0;34m.\u001b[0m\u001b[0m__get_result\u001b[0m\u001b[0;34m(\u001b[0m\u001b[0;34m)\u001b[0m\u001b[0;34m\u001b[0m\u001b[0;34m\u001b[0m\u001b[0m\n\u001b[0m\u001b[1;32m    436\u001b[0m             \u001b[0;32melse\u001b[0m\u001b[0;34m:\u001b[0m\u001b[0;34m\u001b[0m\u001b[0;34m\u001b[0m\u001b[0m\n\u001b[1;32m    437\u001b[0m                 \u001b[0;32mraise\u001b[0m \u001b[0mTimeoutError\u001b[0m\u001b[0;34m(\u001b[0m\u001b[0;34m)\u001b[0m\u001b[0;34m\u001b[0m\u001b[0;34m\u001b[0m\u001b[0m\n",
            "\u001b[0;32m/usr/lib/python3.7/concurrent/futures/_base.py\u001b[0m in \u001b[0;36m__get_result\u001b[0;34m(self)\u001b[0m\n\u001b[1;32m    382\u001b[0m     \u001b[0;32mdef\u001b[0m \u001b[0m__get_result\u001b[0m\u001b[0;34m(\u001b[0m\u001b[0mself\u001b[0m\u001b[0;34m)\u001b[0m\u001b[0;34m:\u001b[0m\u001b[0;34m\u001b[0m\u001b[0;34m\u001b[0m\u001b[0m\n\u001b[1;32m    383\u001b[0m         \u001b[0;32mif\u001b[0m \u001b[0mself\u001b[0m\u001b[0;34m.\u001b[0m\u001b[0m_exception\u001b[0m\u001b[0;34m:\u001b[0m\u001b[0;34m\u001b[0m\u001b[0;34m\u001b[0m\u001b[0m\n\u001b[0;32m--> 384\u001b[0;31m             \u001b[0;32mraise\u001b[0m \u001b[0mself\u001b[0m\u001b[0;34m.\u001b[0m\u001b[0m_exception\u001b[0m\u001b[0;34m\u001b[0m\u001b[0;34m\u001b[0m\u001b[0m\n\u001b[0m\u001b[1;32m    385\u001b[0m         \u001b[0;32melse\u001b[0m\u001b[0;34m:\u001b[0m\u001b[0;34m\u001b[0m\u001b[0;34m\u001b[0m\u001b[0m\n\u001b[1;32m    386\u001b[0m             \u001b[0;32mreturn\u001b[0m \u001b[0mself\u001b[0m\u001b[0;34m.\u001b[0m\u001b[0m_result\u001b[0m\u001b[0;34m\u001b[0m\u001b[0;34m\u001b[0m\u001b[0m\n",
            "\u001b[0;31mValueError\u001b[0m: feature_names mismatch: ['f0', 'f1', 'f2', 'f3', 'f4', 'f5', 'f6', 'f7', 'f8', 'f9', 'f10', 'f11', 'f12', 'f13', 'f14', 'f15', 'f16', 'f17', 'f18', 'f19', 'f20', 'f21', 'f22', 'f23', 'f24', 'f25', 'f26', 'f27', 'f28', 'f29', 'f30', 'f31', 'f32', 'f33', 'f34', 'f35', 'f36', 'f37', 'f38', 'f39', 'f40', 'f41', 'f42', 'f43', 'f44', 'f45', 'f46', 'f47', 'f48', 'f49', 'f50', 'f51', 'f52', 'f53', 'f54', 'f55', 'f56', 'f57', 'f58', 'f59', 'f60', 'f61', 'f62', 'f63', 'f64', 'f65', 'f66', 'f67', 'f68', 'f69', 'f70', 'f71', 'f72', 'f73', 'f74', 'f75', 'f76', 'f77', 'f78', 'f79', 'f80', 'f81', 'f82', 'f83', 'f84', 'f85', 'f86', 'f87', 'f88', 'f89', 'f90', 'f91', 'f92', 'f93', 'f94', 'f95', 'f96', 'f97', 'f98', 'f99', 'f100', 'f101', 'f102', 'f103', 'f104', 'f105', 'f106', 'f107', 'f108', 'f109', 'f110', 'f111', 'f112', 'f113', 'f114', 'f115', 'f116', 'f117', 'f118', 'f119', 'f120', 'f121', 'f122', 'f123', 'f124', 'f125', 'f126', 'f127', 'f128', 'f129', 'f130', 'f131', 'f132', 'f133', 'f134', 'f135', 'f136', 'f137', 'f138', 'f139', 'f140', 'f141', 'f142', 'f143', 'f144', 'f145', 'f146', 'f147', 'f148', 'f149', 'f150', 'f151', 'f152', 'f153', 'f154', 'f155', 'f156', 'f157', 'f158', 'f159', 'f160', 'f161'] ['NAME_CONTRACT_TYPE', 'CODE_GENDER', 'FLAG_OWN_CAR', 'FLAG_OWN_REALTY', 'CNT_CHILDREN', 'AMT_INCOME_TOTAL', 'AMT_CREDIT', 'AMT_ANNUITY', 'NAME_TYPE_SUITE', 'NAME_INCOME_TYPE', 'NAME_EDUCATION_TYPE', 'NAME_FAMILY_STATUS', 'NAME_HOUSING_TYPE', 'REGION_POPULATION_R...\nexpected f134, f8, f75, f76, f35, f101, f61, f67, f95, f127, f161, f48, f125, f85, f104, f9, f19, f100, f2, f119, f116, f126, f132, f115, f34, f89, f32, f151, f99, f62, f150, f138, f71, f63, f149, f114, f120, f107, f160, f44, f79, f136, f86, f145, f97, f17, f15, f3, f74, f147, f5, f46, f141, f113, f27, f159, f156, f133, f64, f154, f108, f124, f22, f96, f106, f148, f20, f144, f23, f12, f26, f110, f37, f121, f72, f47, f66, f40, f65, f90, f21, f59, f153, f38, f140, f91, f112, f102, f25, f152, f0, f7, f53, f52, f80, f69, f68, f93, f123, f146, f78, f13, f16, f29, f82, f155, f83, f51, f43, f73, f28, f10, f36, f98, f60, f109, f81, f122, f49, f14, f56, f4, f58, f157, f70, f42, f135, f6, f142, f158, f18, f137, f94, f105, f128, f33, f130, f131, f1, f55, f11, f103, f54, f117, f77, f139, f143, f30, f31, f24, f39, f57, f118, f129, f41, f45, f84, f87, f111, f92, f50, f88 in input data\ntraining data did not have the following fields: client_bureau_balance_STATUS_3_count_sum, bureau_CREDIT_ACTIVE_Bad debt_count, bureau_CREDIT_DAY_OVERDUE_mean, REGION_POPULATION_RELATIVE, CODE_GENDER, bureau_DAYS_CREDIT_max, NAME_HOUSING_TYPE, bureau_CREDIT_TYPE_Car loan_count, bureau_CREDIT_TYPE_Loan for the purchase of equipment_count_norm, bureau_CREDIT_TYPE_Another type of loan_count, bureau_AMT_CREDIT_SUM_LIMIT_mean, LIVE_REGION_NOT_WORK_REGION, bureau_AMT_CREDIT_SUM_OVERDUE_mean, bureau_AMT_CREDIT_SUM_DEBT_mean, NAME_EDUCATION_TYPE, bureau_AMT_CREDIT_SUM_sum, client_bureau_balance_STATUS_2_count_sum, AMT_REQ_CREDIT_BUREAU_HOUR, CNT_CHILDREN, bureau_CREDIT_TYPE_Loan for purchase of shares (margin lending)_count, FLAG_PHONE, FLAG_DOCUMENT_13, bureau_CREDIT_ACTIVE_Closed_count_norm, FLAG_CONT_MOBILE, DAYS_LAST_PHONE_CHANGE, bureau_AMT_CREDIT_MAX_OVERDUE_count, bureau_AMT_CREDIT_SUM_LIMIT_max, bureau_CREDIT_TYPE_Microloan_count, bureau_DAYS_CREDIT_ENDDATE_max, bureau_CREDIT_TYPE_Loan for working capital replenishment_count, bureau_AMT_CREDIT_SUM_DEBT_min, REG_REGION_NOT_LIVE_REGION, client_bureau_balance_STATUS_0_count_norm_sum, bureau_DAYS_CREDIT_mean, bureau_CREDIT_TYPE_Unknown type of loan_count_norm, ORGANIZATION_TYPE, bureau_CREDIT_TYPE_Loan for purchase of shares (margin lending)_count_norm, bureau_AMT_CREDIT_SUM_min, EXT_SOURCE_3, bureau_CREDIT_TYPE_Cash loan (non-earmarked)_count_norm, client_bureau_balance_STATUS_4_count_sum, WEEKDAY_APPR_PROCESS_START, bureau_D..."
          ]
        }
      ]
    },
    {
      "cell_type": "markdown",
      "metadata": {
        "id": "Cgf6i2AcI-6F"
      },
      "source": [
        "## smote stacking"
      ]
    },
    {
      "cell_type": "code",
      "metadata": {
        "id": "Ety5f0xJHvcg"
      },
      "source": [
        "init_param={}\n",
        "\n",
        "estimators = [\n",
        "        ('rf', P_rf_smote),\n",
        "        ('xgb', P_xgb_smote)\n",
        " ]\n",
        "final_estimator=LogisticRegression()\n",
        "\n",
        "param_grid={\n",
        "}\n",
        "\n",
        "import time\n",
        "time_start=time.time()\n",
        "\n",
        "initP_stack,P_stack=makepipe_getres(\n",
        "    estimators,\n",
        "    init_param,\n",
        "    param_grid,\n",
        "    type_='Stacking',\n",
        "    verbose=2\n",
        ")\n",
        "\n",
        "time_end=time.time()\n",
        "print('totally cost',time_end-time_start)"
      ],
      "execution_count": null,
      "outputs": []
    },
    {
      "cell_type": "code",
      "metadata": {
        "colab": {
          "base_uri": "https://localhost:8080/",
          "height": 457
        },
        "id": "mw3jVxGNcUKQ",
        "outputId": "10f2244d-9ac3-4afd-9247-6f85104d0e64"
      },
      "source": [
        "init_param={}\n",
        "\n",
        "estimators = [\n",
        "        ('rf', P_rf),\n",
        "        ('xgb', P_xgb)\n",
        " ]\n",
        "final_estimator=LogisticRegression()\n",
        "\n",
        "param_grid={\n",
        "    'final_estimator__C':[0.1,0.2,0.5]\n",
        "}\n",
        "\n",
        "import time\n",
        "time_start=time.time()\n",
        "\n",
        "initP_stack,P_stack=makepipe_getres(\n",
        "    estimators,\n",
        "    init_param,\n",
        "    param_grid,\n",
        "    type_='Stacking',\n",
        "    verbose=2\n",
        ")\n",
        "\n",
        "time_end=time.time()\n",
        "print('totally cost',time_end-time_start)"
      ],
      "execution_count": null,
      "outputs": [
        {
          "output_type": "stream",
          "text": [
            "Fitting 5 folds for each of 3 candidates, totalling 15 fits\n"
          ],
          "name": "stdout"
        },
        {
          "output_type": "stream",
          "text": [
            "[Parallel(n_jobs=5)]: Using backend LokyBackend with 5 concurrent workers.\n",
            "[Parallel(n_jobs=5)]: Done  12 out of  15 | elapsed:  8.3min remaining:  2.1min\n",
            "[Parallel(n_jobs=5)]: Done  15 out of  15 | elapsed:  8.4min finished\n"
          ],
          "name": "stderr"
        },
        {
          "output_type": "stream",
          "text": [
            "best_params:\n",
            " {'final_estimator__C': 0.5}\n",
            "precison:  0.42162162162162165\n",
            "recall:  0.03989769820971867\n",
            "f1:  0.07289719626168224\n",
            "accuracy:  0.9193528718344782\n"
          ],
          "name": "stdout"
        },
        {
          "output_type": "display_data",
          "data": {
            "image/png": "[encoded data removed]",
            "text/plain": [
              "<Figure size 432x288 with 2 Axes>"
            ]
          },
          "metadata": {
            "tags": [],
            "needs_background": "light"
          }
        },
        {
          "output_type": "stream",
          "text": [
            "totally cost 581.4994430541992\n"
          ],
          "name": "stdout"
        }
      ]
    },
    {
      "cell_type": "code",
      "metadata": {
        "colab": {
          "base_uri": "https://localhost:8080/",
          "height": 453
        },
        "id": "uVKZSf_S51Ur",
        "outputId": "d851688d-4f60-4097-c955-5148b6101b01"
      },
      "source": [
        "#######################################################\n",
        "# xgb\n",
        "import time\n",
        "time_start=time.time()\n",
        "\n",
        "estimators=[('targetencode',target_encoder.TargetEncoder()),('xgb',XGBClassifier())]\n",
        "init_param=dict(targetencode__cols=newtrain.select_dtypes(include='object').columns,xgb__tree_method='gpu_hist',xgb__n_jobs=5)\n",
        "param_grid={\n",
        "    'xgb__n_estimators':[500],\n",
        "    'xgb__max_depth':[5],\n",
        "    'xgb__scale_pos_weight':[1,7,10]\n",
        "}\n",
        "initP_xgb_weight,P_xgb_weight=makepipe_getres(\n",
        "    estimators,\n",
        "    init_param,\n",
        "    param_grid,\n",
        "    verbose=2\n",
        ")\n",
        "\n",
        "time_end=time.time()\n",
        "print('totally cost',time_end-time_start)"
      ],
      "execution_count": null,
      "outputs": [
        {
          "output_type": "stream",
          "text": [
            "Fitting 5 folds for each of 3 candidates, totalling 15 fits\n"
          ],
          "name": "stdout"
        },
        {
          "output_type": "stream",
          "text": [
            "[Parallel(n_jobs=5)]: Using backend LokyBackend with 5 concurrent workers.\n",
            "[Parallel(n_jobs=5)]: Done  12 out of  15 | elapsed:  1.2min remaining:   18.6s\n",
            "[Parallel(n_jobs=5)]: Done  15 out of  15 | elapsed:  1.3min finished\n"
          ],
          "name": "stderr"
        },
        {
          "output_type": "stream",
          "text": [
            "best_params:\n",
            " {'xgb__max_depth': 5, 'xgb__n_estimators': 500, 'xgb__scale_pos_weight': 10}\n",
            "precison:  0.19552071668533036\n",
            "recall:  0.4465473145780051\n",
            "f1:  0.27196261682242995\n",
            "accuracy:  0.810007723263282\n"
          ],
          "name": "stdout"
        },
        {
          "output_type": "display_data",
          "data": {
            "image/png": "[encoded data removed]",
            "text/plain": [
              "<Figure size 432x288 with 2 Axes>"
            ]
          },
          "metadata": {
            "tags": [],
            "needs_background": "light"
          }
        },
        {
          "output_type": "stream",
          "text": [
            "totally cost 91.54282355308533\n"
          ],
          "name": "stdout"
        }
      ]
    },
    {
      "cell_type": "code",
      "metadata": {
        "id": "7nyERE1W6ANa"
      },
      "source": [
        "# ##################################################\n",
        "# # lr\n",
        "# import time\n",
        "# time_start=time.time()\n",
        "\n",
        "# estimators=(('getdummy',getdummy(tarcol)),('lr',LogisticRegression()))\n",
        "# init_param=dict()\n",
        "# param_grid={\n",
        "    # 'lr__C':[0.1,0.2,0.5],\n",
        "    # 'lr__class_weight':[{0:1.0, 1:8.0},{0:1.0, 1:10.0}]\n",
        "# }\n",
        "# initP_lr,P_lr=makepipe_getres(\n",
        "#     estimators,\n",
        "#     init_param,\n",
        "#     param_grid,\n",
        "#     verbose=3\n",
        "# )\n",
        "\n",
        "# time_end=time.time()\n",
        "# print('totally cost',time_end-time_start)"
      ],
      "execution_count": null,
      "outputs": []
    },
    {
      "cell_type": "code",
      "metadata": {
        "colab": {
          "base_uri": "https://localhost:8080/",
          "height": 660
        },
        "id": "Cwd82DBzNFZq",
        "outputId": "38979e47-4450-4486-ecdd-6bf4ed84d66e"
      },
      "source": [
        "######################################################\n",
        "# rf\n",
        "import time\n",
        "time_start=time.time()\n",
        "\n",
        "estimators=[('targetencode',target_encoder.TargetEncoder()),('randomforest',RandomForestClassifier())]\n",
        "init_param=dict(targetencode__cols=newtrain.select_dtypes(include='object').columns)\n",
        "param_grid={\n",
        "    'randomforest__n_estimators':[5],\n",
        "    'randomforest__max_depth':[12],\n",
        "    'randomforest__class_weight':[{0:1.0, 1:1.0},{0:1.0, 1:7.0},{0:1.0, 1:10.0}]\n",
        "}\n",
        "initP_rf_weight,P_rf_weight=makepipe_getres(\n",
        "    estimators,\n",
        "    init_param,\n",
        "    param_grid,\n",
        "    verbose=3\n",
        ")\n",
        "\n",
        "time_end=time.time()\n",
        "print('totally cost',time_end-time_start)"
      ],
      "execution_count": null,
      "outputs": [
        {
          "output_type": "stream",
          "text": [
            "Fitting 5 folds for each of 3 candidates, totalling 15 fits\n"
          ],
          "name": "stdout"
        },
        {
          "output_type": "stream",
          "text": [
            "[Parallel(n_jobs=5)]: Using backend LokyBackend with 5 concurrent workers.\n",
            "[Parallel(n_jobs=5)]: Done  12 out of  15 | elapsed:   15.1s remaining:    3.8s\n",
            "[Parallel(n_jobs=5)]: Done  15 out of  15 | elapsed:   15.2s finished\n"
          ],
          "name": "stderr"
        },
        {
          "output_type": "stream",
          "text": [
            "cv_results:\n",
            " {'mean_fit_time': array([4.60315309, 4.59590039, 4.41633034]), 'std_fit_time': array([0.11674517, 0.08356312, 0.09977868]), 'mean_score_time': array([0.26800985, 0.26406446, 0.17842197]), 'std_score_time': array([0.03611713, 0.03618419, 0.04077015]), 'param_randomforest__class_weight': masked_array(data=[{0: 1.0, 1: 1.0}, {0: 1.0, 1: 7.0}, {0: 1.0, 1: 10.0}],\n",
            "             mask=[False, False, False],\n",
            "       fill_value='?',\n",
            "            dtype=object), 'param_randomforest__max_depth': masked_array(data=[12, 12, 12],\n",
            "             mask=[False, False, False],\n",
            "       fill_value='?',\n",
            "            dtype=object), 'param_randomforest__n_estimators': masked_array(data=[5, 5, 5],\n",
            "             mask=[False, False, False],\n",
            "       fill_value='?',\n",
            "            dtype=object), 'params': [{'randomforest__class_weight': {0: 1.0, 1: 1.0}, 'randomforest__max_depth': 12, 'randomforest__n_estimators': 5}, {'randomforest__class_weight': {0: 1.0, 1: 7.0}, 'randomforest__max_depth': 12, 'randomforest__n_estimators': 5}, {'randomforest__class_weight': {0: 1.0, 1: 10.0}, 'randomforest__max_depth': 12, 'randomforest__n_estimators': 5}], 'split0_test_score': array([0.01186944, 0.18208808, 0.23110514]), 'split1_test_score': array([0.00986193, 0.20703318, 0.2362259 ]), 'split2_test_score': array([0.00984252, 0.19566314, 0.22150997]), 'split3_test_score': array([0.02556539, 0.21248741, 0.24425386]), 'split4_test_score': array([0.01579467, 0.21266312, 0.23672014]), 'mean_test_score': array([0.01458679, 0.20198699, 0.233963  ]), 'std_test_score': array([0.00590263, 0.01171034, 0.00750826]), 'rank_test_score': array([3, 2, 1], dtype=int32)}\n",
            "best_params:\n",
            " {'randomforest__class_weight': {0: 1.0, 1: 10.0}, 'randomforest__max_depth': 12, 'randomforest__n_estimators': 5}\n",
            "precison:  0.17212921480782833\n",
            "recall:  0.3734015345268542\n",
            "f1:  0.23563589412524208\n",
            "accuracy:  0.8074875005081095\n"
          ],
          "name": "stdout"
        },
        {
          "output_type": "display_data",
          "data": {
            "image/png": "[encoded data removed]",
            "text/plain": [
              "<Figure size 432x288 with 2 Axes>"
            ]
          },
          "metadata": {
            "tags": [],
            "needs_background": "light"
          }
        },
        {
          "output_type": "stream",
          "text": [
            "totally cost 18.543840646743774\n"
          ],
          "name": "stdout"
        }
      ]
    },
    {
      "cell_type": "code",
      "metadata": {
        "colab": {
          "base_uri": "https://localhost:8080/",
          "height": 436
        },
        "id": "5IdmDTpCxpWk",
        "outputId": "abc8ffa6-2004-41fb-bf2b-a42995e06e2b"
      },
      "source": [
        "init_param={}\n",
        "\n",
        "estimators = [\n",
        "        ('rf', P_rf_weight),\n",
        "        ('xgb', P_xgb_weight)\n",
        " ]\n",
        "final_estimator=LogisticRegression()\n",
        "\n",
        "param_grid={\n",
        "    'final_estimator__C':[0.1,0.2,0.5],\n",
        "    'final_estimator__class_weight':[{0:1.0,1:1.0},{0:1.0,1:8.0}]\n",
        "}\n",
        "\n",
        "import time\n",
        "time_start=time.time()\n",
        "\n",
        "initP_stack,P_stack=makepipe_getres(\n",
        "    estimators,\n",
        "    init_param,\n",
        "    param_grid,\n",
        "    type_='Stacking',\n",
        "    verbose=2\n",
        ")\n",
        "\n",
        "time_end=time.time()\n",
        "print('totally cost',time_end-time_start)"
      ],
      "execution_count": null,
      "outputs": [
        {
          "output_type": "stream",
          "text": [
            "Fitting 5 folds for each of 6 candidates, totalling 30 fits\n"
          ],
          "name": "stdout"
        },
        {
          "output_type": "stream",
          "text": [
            "[Parallel(n_jobs=5)]: Using backend LokyBackend with 5 concurrent workers.\n",
            "[Parallel(n_jobs=5)]: Done  30 out of  30 | elapsed: 15.4min finished\n"
          ],
          "name": "stderr"
        },
        {
          "output_type": "stream",
          "text": [
            "best_params:\n",
            " {'final_estimator__C': 0.2, 'final_estimator__class_weight': {0: 1.0, 1: 8.0}}\n",
            "precison:  0.1765005951368815\n",
            "recall:  0.5309462915601023\n",
            "f1:  0.2649310872894334\n",
            "accuracy:  0.7658631762936466\n"
          ],
          "name": "stdout"
        },
        {
          "output_type": "display_data",
          "data": {
            "image/png": "[encoded data removed]",
            "text/plain": [
              "<Figure size 432x288 with 2 Axes>"
            ]
          },
          "metadata": {
            "tags": [],
            "needs_background": "light"
          }
        },
        {
          "output_type": "stream",
          "text": [
            "totally cost 1001.773298740387\n"
          ],
          "name": "stdout"
        }
      ]
    },
    {
      "cell_type": "code",
      "metadata": {
        "id": "trUGKQnTYgXh"
      },
      "source": [
        "lr_param={\n",
        "        'lr__C':[0.001,0.1,0.5],\n",
        "        'lr__class_weight':[{0:1.0, 1:1.0},{0:1.0, 1:7.0},{0:1.0, 1:10.0}]\n",
        "}"
      ],
      "execution_count": null,
      "outputs": []
    },
    {
      "cell_type": "code",
      "metadata": {
        "id": "VaDbkdtGB6H8"
      },
      "source": [
        "rf_estimators=[('targetencode',target_encoder.TargetEncoder(cols=newtrain.select_dtypes(include='object').columns)),('randomforest',RandomForestClassifier())]\n",
        "xgb_estimators=[('targetencode',target_encoder.TargetEncoder(cols=newtrain.select_dtypes(include='object').columns)),('xgb',XGBClassifier(tree_method='gpu_hist',n_jobs=5))]\n",
        "\n",
        "init_param={}\n",
        "\n",
        "estimators = [\n",
        "        ('rf', Pipeline(rf_estimators)),\n",
        "        ('xgb', Pipeline(xgb_estimators))\n",
        " ]\n",
        "final_estimator=LogisticRegression()"
      ],
      "execution_count": null,
      "outputs": []
    },
    {
      "cell_type": "code",
      "metadata": {
        "id": "dKgm9q3wCdEK"
      },
      "source": [
        "param_grid={\n",
        "    'rf__randomforest__n_estimators':[30,50],\n",
        "    'rf__randomforest__max_depth':[7,10],\n",
        "    'rf__randomforest__class_weight':[{0:1.0,1:10.0}],\n",
        "    'xgb__xgb__n_estimators':[70,100],\n",
        "    'xgb__xgb__max_depth':[5,9],\n",
        "    'xgb__xgb__scale_pos_weight':[7],\n",
        "    'final_estimator__C':[0.1,0.2,0.5],\n",
        "    'final_estimator__class_weight':[{0:1.0,1:1.0},{0:1.0,1:8.0}]\n",
        "}"
      ],
      "execution_count": null,
      "outputs": []
    },
    {
      "cell_type": "code",
      "metadata": {
        "id": "u7tmEU4qgJKQ"
      },
      "source": [
        "# clf=StackingClassifier(estimators=estimators, final_estimator=final_estimator)"
      ],
      "execution_count": null,
      "outputs": []
    },
    {
      "cell_type": "code",
      "metadata": {
        "colab": {
          "base_uri": "https://localhost:8080/"
        },
        "id": "TN0YFNK9gN0M",
        "outputId": "4270530c-2333-4c34-8dce-277f79d4da34"
      },
      "source": [
        "import time\n",
        "time_start=time.time()\n",
        "\n",
        "initP_stack,P_stack=makepipe_getres(\n",
        "    estimators,\n",
        "    init_param,\n",
        "    param_grid,\n",
        "    type_='Stacking',\n",
        "    verbose=2\n",
        ")\n",
        "\n",
        "time_end=time.time()\n",
        "print('totally cost',time_end-time_start)"
      ],
      "execution_count": null,
      "outputs": [
        {
          "output_type": "stream",
          "text": [
            "Fitting 5 folds for each of 96 candidates, totalling 480 fits\n"
          ],
          "name": "stdout"
        },
        {
          "output_type": "stream",
          "text": [
            "[Parallel(n_jobs=5)]: Using backend LokyBackend with 5 concurrent workers.\n"
          ],
          "name": "stderr"
        }
      ]
    },
    {
      "cell_type": "code",
      "metadata": {
        "id": "qwCke2EQCljB"
      },
      "source": [
        " # import time\n",
        "# time_start=time.time()\n",
        "\n",
        "# initP_stack,P_stack=makepipe_getres(\n",
        "#     estimators,\n",
        "#     init_param,\n",
        "#     param_grid,\n",
        "#     type_='Stacking',\n",
        "#     verbose=2\n",
        "# )\n",
        "\n",
        "# time_end=time.time()\n",
        "# print('totally cost',time_end-time_start)"
      ],
      "execution_count": null,
      "outputs": []
    },
    {
      "cell_type": "code",
      "metadata": {
        "colab": {
          "base_uri": "https://localhost:8080/",
          "height": 487
        },
        "id": "_xGBMJXaCnRu",
        "outputId": "2074162b-0f6d-4b2c-a7c3-d0487ff9c062"
      },
      "source": [
        "######################################################\n",
        "# rf\n",
        "import time\n",
        "time_start=time.time()\n",
        "\n",
        "estimators=[('targetencode',target_encoder.TargetEncoder()),('smote',SMOTE(random_state=SEED)),('randomforest',RandomForestClassifier())]\n",
        "init_param=dict(targetencode__cols=newtrain.select_dtypes(include='object').columns)\n",
        "param_grid={\n",
        "    'randomforest__n_estimators':[5,10,20,30,50],\n",
        "    'randomforest__max_depth':[6,8,10,12],\n",
        "    'randomforest__class_weight':[{0:1.0, 1:1.0},{0:1.0, 1:7.0},{0:1.0, 1:10.0}]\n",
        "}\n",
        "initP_rf_sm,P_rf_sm=makepipe_getres(\n",
        "    estimators,\n",
        "    init_param,\n",
        "    param_grid,\n",
        "    verbose=2\n",
        ")\n",
        "\n",
        "time_end=time.time()\n",
        "print('totally cost',time_end-time_start)"
      ],
      "execution_count": null,
      "outputs": [
        {
          "output_type": "stream",
          "text": [
            "Fitting 5 folds for each of 60 candidates, totalling 300 fits\n"
          ],
          "name": "stdout"
        },
        {
          "output_type": "stream",
          "text": [
            "[Parallel(n_jobs=5)]: Using backend LokyBackend with 5 concurrent workers.\n",
            "[Parallel(n_jobs=5)]: Done  22 tasks      | elapsed:  2.2min\n",
            "[Parallel(n_jobs=5)]: Done 118 tasks      | elapsed: 11.7min\n",
            "[Parallel(n_jobs=5)]: Done 278 tasks      | elapsed: 28.0min\n",
            "[Parallel(n_jobs=5)]: Done 300 out of 300 | elapsed: 30.8min finished\n"
          ],
          "name": "stderr"
        },
        {
          "output_type": "stream",
          "text": [
            "best_params:\n",
            " {'randomforest__class_weight': {0: 1.0, 1: 7.0}, 'randomforest__max_depth': 12, 'randomforest__n_estimators': 50}\n",
            "precison:  0.11623315306034852\n",
            "recall:  0.6925831202046036\n",
            "f1:  0.19905910026462803\n",
            "accuracy:  0.5570911751554815\n"
          ],
          "name": "stdout"
        },
        {
          "output_type": "display_data",
          "data": {
            "image/png": "[encoded data removed]",
            "text/plain": [
              "<Figure size 432x288 with 2 Axes>"
            ]
          },
          "metadata": {
            "tags": [],
            "needs_background": "light"
          }
        },
        {
          "output_type": "stream",
          "text": [
            "totally cost 1899.3109030723572\n"
          ],
          "name": "stdout"
        }
      ]
    },
    {
      "cell_type": "code",
      "metadata": {
        "colab": {
          "base_uri": "https://localhost:8080/"
        },
        "id": "KmB5KOn0Er9w",
        "outputId": "4e2ea5a6-bdcf-448a-dd01-e761f011a5ec"
      },
      "source": [
        "######################################################\n",
        "# rf-enn\n",
        "import time\n",
        "time_start=time.time()\n",
        "\n",
        "estimators=[('targetencode',target_encoder.TargetEncoder()),('smote_enn',SMOTEENN(random_state=SEED)),('randomforest',RandomForestClassifier())]\n",
        "init_param=dict(targetencode__cols=newtrain.select_dtypes(include='object').columns)\n",
        "param_grid={\n",
        "    'randomforest__n_estimators':[5,10,20,30,50],\n",
        "    'randomforest__max_depth':[6,8,10,12],\n",
        "    'randomforest__class_weight':[{0:1.0, 1:1.0},{0:1.0, 1:7.0},{0:1.0, 1:10.0}]\n",
        "}\n",
        "initP_rf_enn,P_rf_enn=makepipe_getres(\n",
        "    estimators,\n",
        "    init_param,\n",
        "    param_grid,\n",
        "    verbose=2\n",
        ")\n",
        "\n",
        "time_end=time.time()\n",
        "print('totally cost',time_end-time_start)"
      ],
      "execution_count": null,
      "outputs": [
        {
          "output_type": "stream",
          "text": [
            "Fitting 5 folds for each of 60 candidates, totalling 300 fits\n"
          ],
          "name": "stdout"
        },
        {
          "output_type": "stream",
          "text": [
            "[Parallel(n_jobs=5)]: Using backend LokyBackend with 5 concurrent workers.\n",
            "[Parallel(n_jobs=5)]: Done  22 tasks      | elapsed: 21.0min\n"
          ],
          "name": "stderr"
        }
      ]
    },
    {
      "cell_type": "code",
      "metadata": {
        "id": "Cetv9Ty8FDj7"
      },
      "source": [
        ""
      ],
      "execution_count": null,
      "outputs": []
    },
    {
      "cell_type": "code",
      "metadata": {
        "id": "sBWdjXhmNF0o"
      },
      "source": [
        ""
      ],
      "execution_count": null,
      "outputs": []
    },
    {
      "cell_type": "code",
      "metadata": {
        "id": "vgPZlozvapKV"
      },
      "source": [
        ""
      ],
      "execution_count": null,
      "outputs": []
    }
  ]
}